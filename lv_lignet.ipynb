{
 "cells": [
  {
   "cell_type": "code",
   "execution_count": 1,
   "metadata": {},
   "outputs": [
    {
     "name": "stderr",
     "output_type": "stream",
     "text": [
      "/home/jul1512/Software/miniconda3/envs/kongsr/lib/python3.7/site-packages/tqdm/auto.py:22: TqdmWarning: IProgress not found. Please update jupyter and ipywidgets. See https://ipywidgets.readthedocs.io/en/stable/user_install.html\n",
      "  from .autonotebook import tqdm as notebook_tqdm\n",
      "/home/jul1512/Software/miniconda3/envs/kongsr/lib/python3.7/site-packages/ipykernel_launcher.py:180: UserWarning: Creating a tensor from a list of numpy.ndarrays is extremely slow. Please consider converting the list to a single numpy.ndarray with numpy.array() before converting to a tensor. (Triggered internally at  /opt/conda/conda-bld/pytorch_1646755953518/work/torch/csrc/utils/tensor_new.cpp:210.)\n"
     ]
    },
    {
     "name": "stdout",
     "output_type": "stream",
     "text": [
      "Start traning...\n"
     ]
    },
    {
     "name": "stderr",
     "output_type": "stream",
     "text": [
      "total progress:   0%|          | 0/400 [00:00<?, ?it/s]"
     ]
    },
    {
     "name": "stdout",
     "output_type": "stream",
     "text": [
      "1:140\t226.5699\r"
     ]
    },
    {
     "name": "stderr",
     "output_type": "stream",
     "text": [
      "total progress:   0%|          | 1/400 [00:51<5:45:07, 51.90s/it]"
     ]
    },
    {
     "name": "stdout",
     "output_type": "stream",
     "text": [
      "epoch 1\tloss:259.8377\t\n",
      "2:140\t241.1868\r"
     ]
    },
    {
     "name": "stderr",
     "output_type": "stream",
     "text": [
      "total progress:   0%|          | 2/400 [01:43<5:43:48, 51.83s/it]"
     ]
    },
    {
     "name": "stdout",
     "output_type": "stream",
     "text": [
      "epoch 2\tloss:224.5694\t\n",
      "3:140\t219.0317\r"
     ]
    },
    {
     "name": "stderr",
     "output_type": "stream",
     "text": [
      "total progress:   1%|          | 3/400 [02:35<5:42:31, 51.77s/it]"
     ]
    },
    {
     "name": "stdout",
     "output_type": "stream",
     "text": [
      "epoch 3\tloss:224.1325\t\n",
      "4:140\t220.9322\r"
     ]
    },
    {
     "name": "stderr",
     "output_type": "stream",
     "text": [
      "total progress:   1%|          | 4/400 [03:27<5:41:30, 51.74s/it]"
     ]
    },
    {
     "name": "stdout",
     "output_type": "stream",
     "text": [
      "epoch 4\tloss:224.0430\t\n",
      "5:140\t214.6607\r"
     ]
    },
    {
     "name": "stderr",
     "output_type": "stream",
     "text": [
      "total progress:   1%|▏         | 5/400 [04:18<5:40:12, 51.68s/it]"
     ]
    },
    {
     "name": "stdout",
     "output_type": "stream",
     "text": [
      "epoch 5\tloss:223.8917\t\n",
      "6:140\t226.4140\r"
     ]
    },
    {
     "name": "stderr",
     "output_type": "stream",
     "text": [
      "total progress:   2%|▏         | 6/400 [05:10<5:38:48, 51.60s/it]"
     ]
    },
    {
     "name": "stdout",
     "output_type": "stream",
     "text": [
      "epoch 6\tloss:223.9266\t\n",
      "7:140\t224.0991\r"
     ]
    },
    {
     "name": "stderr",
     "output_type": "stream",
     "text": [
      "total progress:   2%|▏         | 7/400 [05:55<5:24:51, 49.60s/it]"
     ]
    },
    {
     "name": "stdout",
     "output_type": "stream",
     "text": [
      "epoch 7\tloss:223.8191\t\n",
      "8:140\t214.2737\r"
     ]
    },
    {
     "name": "stderr",
     "output_type": "stream",
     "text": [
      "total progress:   2%|▏         | 8/400 [06:43<5:21:03, 49.14s/it]"
     ]
    },
    {
     "name": "stdout",
     "output_type": "stream",
     "text": [
      "epoch 8\tloss:223.6922\t\n",
      "9:140\t222.8581\r"
     ]
    },
    {
     "name": "stderr",
     "output_type": "stream",
     "text": [
      "total progress:   2%|▏         | 9/400 [07:34<5:23:06, 49.58s/it]"
     ]
    },
    {
     "name": "stdout",
     "output_type": "stream",
     "text": [
      "epoch 9\tloss:223.6354\t\n",
      "10:140\t213.4195\r"
     ]
    },
    {
     "name": "stderr",
     "output_type": "stream",
     "text": [
      "total progress:   2%|▎         | 10/400 [08:25<5:25:34, 50.09s/it]"
     ]
    },
    {
     "name": "stdout",
     "output_type": "stream",
     "text": [
      "epoch 10\tloss:223.7193\t\n",
      "11:140\t213.8403\r"
     ]
    },
    {
     "name": "stderr",
     "output_type": "stream",
     "text": [
      "total progress:   3%|▎         | 11/400 [09:16<5:26:57, 50.43s/it]"
     ]
    },
    {
     "name": "stdout",
     "output_type": "stream",
     "text": [
      "epoch 11\tloss:223.6303\t\n",
      "12:140\t235.0459\r"
     ]
    },
    {
     "name": "stderr",
     "output_type": "stream",
     "text": [
      "total progress:   3%|▎         | 12/400 [10:08<5:27:56, 50.71s/it]"
     ]
    },
    {
     "name": "stdout",
     "output_type": "stream",
     "text": [
      "epoch 12\tloss:223.6226\t\n",
      "13:140\t213.2576\r"
     ]
    },
    {
     "name": "stderr",
     "output_type": "stream",
     "text": [
      "total progress:   3%|▎         | 13/400 [10:59<5:28:11, 50.88s/it]"
     ]
    },
    {
     "name": "stdout",
     "output_type": "stream",
     "text": [
      "epoch 13\tloss:223.6166\t\n",
      "14:140\t230.6047\r"
     ]
    },
    {
     "name": "stderr",
     "output_type": "stream",
     "text": [
      "total progress:   4%|▎         | 14/400 [11:50<5:27:57, 50.98s/it]"
     ]
    },
    {
     "name": "stdout",
     "output_type": "stream",
     "text": [
      "epoch 14\tloss:223.5884\t\n",
      "15:140\t218.6869\r"
     ]
    },
    {
     "name": "stderr",
     "output_type": "stream",
     "text": [
      "total progress:   4%|▍         | 15/400 [12:41<5:27:06, 50.98s/it]"
     ]
    },
    {
     "name": "stdout",
     "output_type": "stream",
     "text": [
      "epoch 15\tloss:223.6563\t\n",
      "16:140\t224.2400\r"
     ]
    },
    {
     "name": "stderr",
     "output_type": "stream",
     "text": [
      "total progress:   4%|▍         | 16/400 [13:32<5:26:34, 51.03s/it]"
     ]
    },
    {
     "name": "stdout",
     "output_type": "stream",
     "text": [
      "epoch 16\tloss:223.5980\t\n",
      "17:140\t219.4582\r"
     ]
    },
    {
     "name": "stderr",
     "output_type": "stream",
     "text": [
      "total progress:   4%|▍         | 17/400 [14:24<5:26:41, 51.18s/it]"
     ]
    },
    {
     "name": "stdout",
     "output_type": "stream",
     "text": [
      "epoch 17\tloss:223.6163\t\n",
      "18:140\t228.7618\r"
     ]
    },
    {
     "name": "stderr",
     "output_type": "stream",
     "text": [
      "total progress:   4%|▍         | 18/400 [15:15<5:26:37, 51.30s/it]"
     ]
    },
    {
     "name": "stdout",
     "output_type": "stream",
     "text": [
      "epoch 18\tloss:223.5203\t\n",
      "19:140\t232.1262\r"
     ]
    },
    {
     "name": "stderr",
     "output_type": "stream",
     "text": [
      "total progress:   5%|▍         | 19/400 [16:07<5:27:10, 51.52s/it]"
     ]
    },
    {
     "name": "stdout",
     "output_type": "stream",
     "text": [
      "epoch 19\tloss:223.6072\t\n",
      "20:140\t218.8195\r"
     ]
    },
    {
     "name": "stderr",
     "output_type": "stream",
     "text": [
      "total progress:   5%|▌         | 20/400 [16:59<5:26:12, 51.51s/it]"
     ]
    },
    {
     "name": "stdout",
     "output_type": "stream",
     "text": [
      "epoch 20\tloss:223.5715\t\n",
      "21:140\t224.5708\r"
     ]
    },
    {
     "name": "stderr",
     "output_type": "stream",
     "text": [
      "total progress:   5%|▌         | 21/400 [17:50<5:24:37, 51.39s/it]"
     ]
    },
    {
     "name": "stdout",
     "output_type": "stream",
     "text": [
      "epoch 21\tloss:223.5506\t\n",
      "22:140\t219.5034\r"
     ]
    },
    {
     "name": "stderr",
     "output_type": "stream",
     "text": [
      "total progress:   6%|▌         | 22/400 [18:42<5:24:20, 51.48s/it]"
     ]
    },
    {
     "name": "stdout",
     "output_type": "stream",
     "text": [
      "epoch 22\tloss:223.4965\t\n",
      "23:140\t218.1582\r"
     ]
    },
    {
     "name": "stderr",
     "output_type": "stream",
     "text": [
      "total progress:   6%|▌         | 23/400 [19:33<5:23:48, 51.53s/it]"
     ]
    },
    {
     "name": "stdout",
     "output_type": "stream",
     "text": [
      "epoch 23\tloss:223.4908\t\n",
      "24:140\t216.4297\r"
     ]
    },
    {
     "name": "stderr",
     "output_type": "stream",
     "text": [
      "total progress:   6%|▌         | 24/400 [20:25<5:23:06, 51.56s/it]"
     ]
    },
    {
     "name": "stdout",
     "output_type": "stream",
     "text": [
      "epoch 24\tloss:223.5220\t\n",
      "25:140\t214.0593\r"
     ]
    },
    {
     "name": "stderr",
     "output_type": "stream",
     "text": [
      "total progress:   6%|▋         | 25/400 [21:17<5:22:26, 51.59s/it]"
     ]
    },
    {
     "name": "stdout",
     "output_type": "stream",
     "text": [
      "epoch 25\tloss:223.5291\t\n",
      "26:140\t234.7041\r"
     ]
    },
    {
     "name": "stderr",
     "output_type": "stream",
     "text": [
      "total progress:   6%|▋         | 26/400 [22:08<5:21:13, 51.53s/it]"
     ]
    },
    {
     "name": "stdout",
     "output_type": "stream",
     "text": [
      "epoch 26\tloss:223.5333\t\n",
      "27:140\t213.3936\r"
     ]
    },
    {
     "name": "stderr",
     "output_type": "stream",
     "text": [
      "total progress:   7%|▋         | 27/400 [23:00<5:21:46, 51.76s/it]"
     ]
    },
    {
     "name": "stdout",
     "output_type": "stream",
     "text": [
      "epoch 27\tloss:223.5189\t\n",
      "28:140\t216.3973\r"
     ]
    },
    {
     "name": "stderr",
     "output_type": "stream",
     "text": [
      "total progress:   7%|▋         | 28/400 [23:52<5:21:51, 51.91s/it]"
     ]
    },
    {
     "name": "stdout",
     "output_type": "stream",
     "text": [
      "epoch 28\tloss:223.4906\t\n",
      "29:140\t227.2117\r"
     ]
    },
    {
     "name": "stderr",
     "output_type": "stream",
     "text": [
      "total progress:   7%|▋         | 29/400 [24:44<5:21:06, 51.93s/it]"
     ]
    },
    {
     "name": "stdout",
     "output_type": "stream",
     "text": [
      "epoch 29\tloss:223.5615\t\n",
      "30:140\t217.3688\r"
     ]
    },
    {
     "name": "stderr",
     "output_type": "stream",
     "text": [
      "total progress:   8%|▊         | 30/400 [25:36<5:20:08, 51.91s/it]"
     ]
    },
    {
     "name": "stdout",
     "output_type": "stream",
     "text": [
      "epoch 30\tloss:223.5530\t\n",
      "31:140\t225.2082\r"
     ]
    },
    {
     "name": "stderr",
     "output_type": "stream",
     "text": [
      "total progress:   8%|▊         | 31/400 [26:28<5:18:03, 51.72s/it]"
     ]
    },
    {
     "name": "stdout",
     "output_type": "stream",
     "text": [
      "epoch 31\tloss:223.5459\t\n",
      "32:140\t223.0599\r"
     ]
    },
    {
     "name": "stderr",
     "output_type": "stream",
     "text": [
      "total progress:   8%|▊         | 32/400 [27:19<5:16:07, 51.54s/it]"
     ]
    },
    {
     "name": "stdout",
     "output_type": "stream",
     "text": [
      "epoch 32\tloss:223.5712\t\n",
      "33:140\t213.8240\r"
     ]
    },
    {
     "name": "stderr",
     "output_type": "stream",
     "text": [
      "total progress:   8%|▊         | 33/400 [28:10<5:14:32, 51.42s/it]"
     ]
    },
    {
     "name": "stdout",
     "output_type": "stream",
     "text": [
      "epoch 33\tloss:223.4904\t\n",
      "34:140\t224.3458\r"
     ]
    },
    {
     "name": "stderr",
     "output_type": "stream",
     "text": [
      "total progress:   8%|▊         | 34/400 [29:01<5:13:19, 51.36s/it]"
     ]
    },
    {
     "name": "stdout",
     "output_type": "stream",
     "text": [
      "epoch 34\tloss:223.5397\t\n",
      "35:140\t234.9859\r"
     ]
    },
    {
     "name": "stderr",
     "output_type": "stream",
     "text": [
      "total progress:   9%|▉         | 35/400 [29:53<5:13:07, 51.47s/it]"
     ]
    },
    {
     "name": "stdout",
     "output_type": "stream",
     "text": [
      "epoch 35\tloss:223.5630\t\n",
      "36:140\t213.8028\r"
     ]
    },
    {
     "name": "stderr",
     "output_type": "stream",
     "text": [
      "total progress:   9%|▉         | 36/400 [30:45<5:12:48, 51.56s/it]"
     ]
    },
    {
     "name": "stdout",
     "output_type": "stream",
     "text": [
      "epoch 36\tloss:223.4183\t\n",
      "37:140\t224.2102\r"
     ]
    },
    {
     "name": "stderr",
     "output_type": "stream",
     "text": [
      "total progress:   9%|▉         | 37/400 [31:37<5:12:44, 51.69s/it]"
     ]
    },
    {
     "name": "stdout",
     "output_type": "stream",
     "text": [
      "epoch 37\tloss:223.5290\t\n",
      "38:140\t237.0887\r"
     ]
    },
    {
     "name": "stderr",
     "output_type": "stream",
     "text": [
      "total progress:  10%|▉         | 38/400 [32:29<5:12:49, 51.85s/it]"
     ]
    },
    {
     "name": "stdout",
     "output_type": "stream",
     "text": [
      "epoch 38\tloss:223.4901\t\n",
      "39:140\t219.0670\r"
     ]
    },
    {
     "name": "stderr",
     "output_type": "stream",
     "text": [
      "total progress:  10%|▉         | 39/400 [33:20<5:11:34, 51.79s/it]"
     ]
    },
    {
     "name": "stdout",
     "output_type": "stream",
     "text": [
      "epoch 39\tloss:223.5183\t\n",
      "40:140\t232.9012\r"
     ]
    },
    {
     "name": "stderr",
     "output_type": "stream",
     "text": [
      "total progress:  10%|█         | 40/400 [34:12<5:10:40, 51.78s/it]"
     ]
    },
    {
     "name": "stdout",
     "output_type": "stream",
     "text": [
      "epoch 40\tloss:223.4792\t\n",
      "41:140\t222.0119\r"
     ]
    },
    {
     "name": "stderr",
     "output_type": "stream",
     "text": [
      "total progress:  10%|█         | 41/400 [35:04<5:09:44, 51.77s/it]"
     ]
    },
    {
     "name": "stdout",
     "output_type": "stream",
     "text": [
      "epoch 41\tloss:223.5330\t\n",
      "42:140\t223.9041\r"
     ]
    },
    {
     "name": "stderr",
     "output_type": "stream",
     "text": [
      "total progress:  10%|█         | 42/400 [35:56<5:08:48, 51.75s/it]"
     ]
    },
    {
     "name": "stdout",
     "output_type": "stream",
     "text": [
      "epoch 42\tloss:223.5303\t\n",
      "43:140\t219.8496\r"
     ]
    },
    {
     "name": "stderr",
     "output_type": "stream",
     "text": [
      "total progress:  11%|█         | 43/400 [36:47<5:08:00, 51.76s/it]"
     ]
    },
    {
     "name": "stdout",
     "output_type": "stream",
     "text": [
      "epoch 43\tloss:223.5081\t\n",
      "44:140\t220.7575\r"
     ]
    },
    {
     "name": "stderr",
     "output_type": "stream",
     "text": [
      "total progress:  11%|█         | 44/400 [37:39<5:07:17, 51.79s/it]"
     ]
    },
    {
     "name": "stdout",
     "output_type": "stream",
     "text": [
      "epoch 44\tloss:223.5568\t\n",
      "45:140\t227.0220\r"
     ]
    },
    {
     "name": "stderr",
     "output_type": "stream",
     "text": [
      "total progress:  11%|█▏        | 45/400 [38:31<5:06:46, 51.85s/it]"
     ]
    },
    {
     "name": "stdout",
     "output_type": "stream",
     "text": [
      "epoch 45\tloss:223.5196\t\n",
      "46:140\t217.8266\r"
     ]
    },
    {
     "name": "stderr",
     "output_type": "stream",
     "text": [
      "total progress:  12%|█▏        | 46/400 [39:23<5:05:33, 51.79s/it]"
     ]
    },
    {
     "name": "stdout",
     "output_type": "stream",
     "text": [
      "epoch 46\tloss:223.5353\t\n",
      "47:140\t216.5266\r"
     ]
    },
    {
     "name": "stderr",
     "output_type": "stream",
     "text": [
      "total progress:  12%|█▏        | 47/400 [40:15<5:04:49, 51.81s/it]"
     ]
    },
    {
     "name": "stdout",
     "output_type": "stream",
     "text": [
      "epoch 47\tloss:223.5130\t\n",
      "48:140\t236.6423\r"
     ]
    },
    {
     "name": "stderr",
     "output_type": "stream",
     "text": [
      "total progress:  12%|█▏        | 48/400 [41:06<5:03:38, 51.76s/it]"
     ]
    },
    {
     "name": "stdout",
     "output_type": "stream",
     "text": [
      "epoch 48\tloss:223.5832\t\n",
      "49:140\t217.4626\r"
     ]
    },
    {
     "name": "stderr",
     "output_type": "stream",
     "text": [
      "total progress:  12%|█▏        | 49/400 [41:58<5:02:19, 51.68s/it]"
     ]
    },
    {
     "name": "stdout",
     "output_type": "stream",
     "text": [
      "epoch 49\tloss:223.4586\t\n",
      "50:140\t217.1189\r"
     ]
    },
    {
     "name": "stderr",
     "output_type": "stream",
     "text": [
      "total progress:  12%|█▎        | 50/400 [42:50<5:01:23, 51.67s/it]"
     ]
    },
    {
     "name": "stdout",
     "output_type": "stream",
     "text": [
      "epoch 50\tloss:223.5337\t\n",
      "51:140\t226.4587\r"
     ]
    },
    {
     "name": "stderr",
     "output_type": "stream",
     "text": [
      "total progress:  13%|█▎        | 51/400 [43:41<5:00:35, 51.68s/it]"
     ]
    },
    {
     "name": "stdout",
     "output_type": "stream",
     "text": [
      "epoch 51\tloss:223.5118\t\n",
      "52:140\t223.4283\r"
     ]
    },
    {
     "name": "stderr",
     "output_type": "stream",
     "text": [
      "total progress:  13%|█▎        | 52/400 [44:33<4:59:24, 51.62s/it]"
     ]
    },
    {
     "name": "stdout",
     "output_type": "stream",
     "text": [
      "epoch 52\tloss:223.4039\t\n",
      "53:140\t230.2720\r"
     ]
    },
    {
     "name": "stderr",
     "output_type": "stream",
     "text": [
      "total progress:  13%|█▎        | 53/400 [45:25<4:59:46, 51.83s/it]"
     ]
    },
    {
     "name": "stdout",
     "output_type": "stream",
     "text": [
      "epoch 53\tloss:223.5087\t\n",
      "54:140\t229.1683\r"
     ]
    },
    {
     "name": "stderr",
     "output_type": "stream",
     "text": [
      "total progress:  14%|█▎        | 54/400 [46:17<4:58:46, 51.81s/it]"
     ]
    },
    {
     "name": "stdout",
     "output_type": "stream",
     "text": [
      "epoch 54\tloss:223.4604\t\n",
      "55:140\t224.1861\r"
     ]
    },
    {
     "name": "stderr",
     "output_type": "stream",
     "text": [
      "total progress:  14%|█▍        | 55/400 [47:09<4:57:56, 51.82s/it]"
     ]
    },
    {
     "name": "stdout",
     "output_type": "stream",
     "text": [
      "epoch 55\tloss:223.5247\t\n",
      "56:140\t225.7270\r"
     ]
    },
    {
     "name": "stderr",
     "output_type": "stream",
     "text": [
      "total progress:  14%|█▍        | 56/400 [48:01<4:57:04, 51.82s/it]"
     ]
    },
    {
     "name": "stdout",
     "output_type": "stream",
     "text": [
      "epoch 56\tloss:223.5195\t\n",
      "57:140\t233.0928\r"
     ]
    },
    {
     "name": "stderr",
     "output_type": "stream",
     "text": [
      "total progress:  14%|█▍        | 57/400 [48:53<4:57:00, 51.95s/it]"
     ]
    },
    {
     "name": "stdout",
     "output_type": "stream",
     "text": [
      "epoch 57\tloss:223.4859\t\n",
      "58:140\t225.6828\r"
     ]
    },
    {
     "name": "stderr",
     "output_type": "stream",
     "text": [
      "total progress:  14%|█▍        | 58/400 [49:45<4:56:36, 52.04s/it]"
     ]
    },
    {
     "name": "stdout",
     "output_type": "stream",
     "text": [
      "epoch 58\tloss:223.4686\t\n",
      "59:140\t231.1608\r"
     ]
    },
    {
     "name": "stderr",
     "output_type": "stream",
     "text": [
      "total progress:  15%|█▍        | 59/400 [50:37<4:55:27, 51.99s/it]"
     ]
    },
    {
     "name": "stdout",
     "output_type": "stream",
     "text": [
      "epoch 59\tloss:223.5573\t\n",
      "60:140\t235.2565\r"
     ]
    },
    {
     "name": "stderr",
     "output_type": "stream",
     "text": [
      "total progress:  15%|█▌        | 60/400 [51:29<4:54:51, 52.03s/it]"
     ]
    },
    {
     "name": "stdout",
     "output_type": "stream",
     "text": [
      "epoch 60\tloss:223.4600\t\n",
      "61:140\t221.4500\r"
     ]
    },
    {
     "name": "stderr",
     "output_type": "stream",
     "text": [
      "total progress:  15%|█▌        | 61/400 [52:21<4:53:55, 52.02s/it]"
     ]
    },
    {
     "name": "stdout",
     "output_type": "stream",
     "text": [
      "epoch 61\tloss:223.5535\t\n",
      "62:140\t222.6537\r"
     ]
    },
    {
     "name": "stderr",
     "output_type": "stream",
     "text": [
      "total progress:  16%|█▌        | 62/400 [53:13<4:53:14, 52.05s/it]"
     ]
    },
    {
     "name": "stdout",
     "output_type": "stream",
     "text": [
      "epoch 62\tloss:223.4729\t\n",
      "63:140\t225.6007\r"
     ]
    },
    {
     "name": "stderr",
     "output_type": "stream",
     "text": [
      "total progress:  16%|█▌        | 63/400 [54:05<4:52:13, 52.03s/it]"
     ]
    },
    {
     "name": "stdout",
     "output_type": "stream",
     "text": [
      "epoch 63\tloss:223.4985\t\n",
      "64:140\t229.3211\r"
     ]
    },
    {
     "name": "stderr",
     "output_type": "stream",
     "text": [
      "total progress:  16%|█▌        | 64/400 [54:57<4:51:39, 52.08s/it]"
     ]
    },
    {
     "name": "stdout",
     "output_type": "stream",
     "text": [
      "epoch 64\tloss:223.5400\t\n",
      "65:140\t240.7432\r"
     ]
    },
    {
     "name": "stderr",
     "output_type": "stream",
     "text": [
      "total progress:  16%|█▋        | 65/400 [55:49<4:50:44, 52.07s/it]"
     ]
    },
    {
     "name": "stdout",
     "output_type": "stream",
     "text": [
      "epoch 65\tloss:223.5302\t\n",
      "66:140\t204.4446\r"
     ]
    },
    {
     "name": "stderr",
     "output_type": "stream",
     "text": [
      "total progress:  16%|█▋        | 66/400 [56:41<4:49:40, 52.04s/it]"
     ]
    },
    {
     "name": "stdout",
     "output_type": "stream",
     "text": [
      "epoch 66\tloss:223.5153\t\n",
      "67:140\t233.9749\r"
     ]
    },
    {
     "name": "stderr",
     "output_type": "stream",
     "text": [
      "total progress:  17%|█▋        | 67/400 [57:33<4:48:59, 52.07s/it]"
     ]
    },
    {
     "name": "stdout",
     "output_type": "stream",
     "text": [
      "epoch 67\tloss:223.5063\t\n",
      "68:140\t225.3435\r"
     ]
    },
    {
     "name": "stderr",
     "output_type": "stream",
     "text": [
      "total progress:  17%|█▋        | 68/400 [58:26<4:48:05, 52.06s/it]"
     ]
    },
    {
     "name": "stdout",
     "output_type": "stream",
     "text": [
      "epoch 68\tloss:223.4946\t\n",
      "69:140\t221.2644\r"
     ]
    },
    {
     "name": "stderr",
     "output_type": "stream",
     "text": [
      "total progress:  17%|█▋        | 69/400 [59:17<4:46:44, 51.98s/it]"
     ]
    },
    {
     "name": "stdout",
     "output_type": "stream",
     "text": [
      "epoch 69\tloss:223.4348\t\n",
      "70:140\t227.4531\r"
     ]
    },
    {
     "name": "stderr",
     "output_type": "stream",
     "text": [
      "total progress:  18%|█▊        | 70/400 [1:00:09<4:44:50, 51.79s/it]"
     ]
    },
    {
     "name": "stdout",
     "output_type": "stream",
     "text": [
      "epoch 70\tloss:223.4998\t\n",
      "71:140\t230.6531\r"
     ]
    },
    {
     "name": "stderr",
     "output_type": "stream",
     "text": [
      "total progress:  18%|█▊        | 71/400 [1:01:00<4:43:44, 51.75s/it]"
     ]
    },
    {
     "name": "stdout",
     "output_type": "stream",
     "text": [
      "epoch 71\tloss:223.4064\t\n",
      "72:140\t220.6205\r"
     ]
    },
    {
     "name": "stderr",
     "output_type": "stream",
     "text": [
      "total progress:  18%|█▊        | 72/400 [1:01:52<4:43:10, 51.80s/it]"
     ]
    },
    {
     "name": "stdout",
     "output_type": "stream",
     "text": [
      "epoch 72\tloss:223.4982\t\n",
      "73:140\t225.9562\r"
     ]
    },
    {
     "name": "stderr",
     "output_type": "stream",
     "text": [
      "total progress:  18%|█▊        | 73/400 [1:02:44<4:42:55, 51.91s/it]"
     ]
    },
    {
     "name": "stdout",
     "output_type": "stream",
     "text": [
      "epoch 73\tloss:223.4453\t\n",
      "74:140\t234.0715\r"
     ]
    },
    {
     "name": "stderr",
     "output_type": "stream",
     "text": [
      "total progress:  18%|█▊        | 74/400 [1:03:36<4:41:46, 51.86s/it]"
     ]
    },
    {
     "name": "stdout",
     "output_type": "stream",
     "text": [
      "epoch 74\tloss:223.4806\t\n",
      "75:140\t222.7377\r"
     ]
    },
    {
     "name": "stderr",
     "output_type": "stream",
     "text": [
      "total progress:  19%|█▉        | 75/400 [1:04:28<4:40:43, 51.83s/it]"
     ]
    },
    {
     "name": "stdout",
     "output_type": "stream",
     "text": [
      "epoch 75\tloss:223.4697\t\n",
      "76:140\t207.1249\r"
     ]
    },
    {
     "name": "stderr",
     "output_type": "stream",
     "text": [
      "total progress:  19%|█▉        | 76/400 [1:05:20<4:40:04, 51.87s/it]"
     ]
    },
    {
     "name": "stdout",
     "output_type": "stream",
     "text": [
      "epoch 76\tloss:223.4666\t\n",
      "77:140\t214.8600\r"
     ]
    },
    {
     "name": "stderr",
     "output_type": "stream",
     "text": [
      "total progress:  19%|█▉        | 77/400 [1:06:11<4:38:39, 51.76s/it]"
     ]
    },
    {
     "name": "stdout",
     "output_type": "stream",
     "text": [
      "epoch 77\tloss:223.5191\t\n",
      "78:140\t229.1142\r"
     ]
    },
    {
     "name": "stderr",
     "output_type": "stream",
     "text": [
      "total progress:  20%|█▉        | 78/400 [1:07:03<4:37:26, 51.70s/it]"
     ]
    },
    {
     "name": "stdout",
     "output_type": "stream",
     "text": [
      "epoch 78\tloss:223.5062\t\n",
      "79:140\t210.0388\r"
     ]
    },
    {
     "name": "stderr",
     "output_type": "stream",
     "text": [
      "total progress:  20%|█▉        | 79/400 [1:07:55<4:36:58, 51.77s/it]"
     ]
    },
    {
     "name": "stdout",
     "output_type": "stream",
     "text": [
      "epoch 79\tloss:223.5006\t\n",
      "80:140\t227.2808\r"
     ]
    },
    {
     "name": "stderr",
     "output_type": "stream",
     "text": [
      "total progress:  20%|██        | 80/400 [1:08:46<4:35:53, 51.73s/it]"
     ]
    },
    {
     "name": "stdout",
     "output_type": "stream",
     "text": [
      "epoch 80\tloss:223.4615\t\n",
      "81:140\t221.2734\r"
     ]
    },
    {
     "name": "stderr",
     "output_type": "stream",
     "text": [
      "total progress:  20%|██        | 81/400 [1:09:38<4:35:27, 51.81s/it]"
     ]
    },
    {
     "name": "stdout",
     "output_type": "stream",
     "text": [
      "epoch 81\tloss:223.4648\t\n",
      "82:140\t213.7006\r"
     ]
    },
    {
     "name": "stderr",
     "output_type": "stream",
     "text": [
      "total progress:  20%|██        | 82/400 [1:10:31<4:35:30, 51.98s/it]"
     ]
    },
    {
     "name": "stdout",
     "output_type": "stream",
     "text": [
      "epoch 82\tloss:223.4622\t\n",
      "83:140\t223.5923\r"
     ]
    },
    {
     "name": "stderr",
     "output_type": "stream",
     "text": [
      "total progress:  21%|██        | 83/400 [1:11:23<4:34:57, 52.04s/it]"
     ]
    },
    {
     "name": "stdout",
     "output_type": "stream",
     "text": [
      "epoch 83\tloss:223.5006\t\n",
      "84:140\t217.4275\r"
     ]
    },
    {
     "name": "stderr",
     "output_type": "stream",
     "text": [
      "total progress:  21%|██        | 84/400 [1:12:15<4:33:51, 52.00s/it]"
     ]
    },
    {
     "name": "stdout",
     "output_type": "stream",
     "text": [
      "epoch 84\tloss:223.5036\t\n",
      "85:140\t224.0359\r"
     ]
    },
    {
     "name": "stderr",
     "output_type": "stream",
     "text": [
      "total progress:  21%|██▏       | 85/400 [1:13:07<4:32:40, 51.94s/it]"
     ]
    },
    {
     "name": "stdout",
     "output_type": "stream",
     "text": [
      "epoch 85\tloss:223.4905\t\n",
      "86:140\t226.8494\r"
     ]
    },
    {
     "name": "stderr",
     "output_type": "stream",
     "text": [
      "total progress:  22%|██▏       | 86/400 [1:13:58<4:31:27, 51.87s/it]"
     ]
    },
    {
     "name": "stdout",
     "output_type": "stream",
     "text": [
      "epoch 86\tloss:223.4150\t\n",
      "87:140\t223.2260\r"
     ]
    },
    {
     "name": "stderr",
     "output_type": "stream",
     "text": [
      "total progress:  22%|██▏       | 87/400 [1:14:50<4:30:37, 51.88s/it]"
     ]
    },
    {
     "name": "stdout",
     "output_type": "stream",
     "text": [
      "epoch 87\tloss:223.5062\t\n",
      "88:140\t232.1579\r"
     ]
    },
    {
     "name": "stderr",
     "output_type": "stream",
     "text": [
      "total progress:  22%|██▏       | 88/400 [1:15:42<4:30:08, 51.95s/it]"
     ]
    },
    {
     "name": "stdout",
     "output_type": "stream",
     "text": [
      "epoch 88\tloss:223.4636\t\n",
      "89:140\t227.2059\r"
     ]
    },
    {
     "name": "stderr",
     "output_type": "stream",
     "text": [
      "total progress:  22%|██▏       | 89/400 [1:16:34<4:29:20, 51.96s/it]"
     ]
    },
    {
     "name": "stdout",
     "output_type": "stream",
     "text": [
      "epoch 89\tloss:223.5298\t\n",
      "90:140\t218.6277\r"
     ]
    },
    {
     "name": "stderr",
     "output_type": "stream",
     "text": [
      "total progress:  22%|██▎       | 90/400 [1:17:27<4:28:39, 52.00s/it]"
     ]
    },
    {
     "name": "stdout",
     "output_type": "stream",
     "text": [
      "epoch 90\tloss:223.4324\t\n",
      "91:140\t226.8401\r"
     ]
    },
    {
     "name": "stderr",
     "output_type": "stream",
     "text": [
      "total progress:  23%|██▎       | 91/400 [1:18:18<4:27:38, 51.97s/it]"
     ]
    },
    {
     "name": "stdout",
     "output_type": "stream",
     "text": [
      "epoch 91\tloss:223.5289\t\n",
      "92:140\t198.2300\r"
     ]
    },
    {
     "name": "stderr",
     "output_type": "stream",
     "text": [
      "total progress:  23%|██▎       | 92/400 [1:19:10<4:26:32, 51.92s/it]"
     ]
    },
    {
     "name": "stdout",
     "output_type": "stream",
     "text": [
      "epoch 92\tloss:223.4961\t\n",
      "93:140\t214.3682\r"
     ]
    },
    {
     "name": "stderr",
     "output_type": "stream",
     "text": [
      "total progress:  23%|██▎       | 93/400 [1:20:02<4:25:21, 51.86s/it]"
     ]
    },
    {
     "name": "stdout",
     "output_type": "stream",
     "text": [
      "epoch 93\tloss:223.5316\t\n",
      "94:140\t217.5965\r"
     ]
    },
    {
     "name": "stderr",
     "output_type": "stream",
     "text": [
      "total progress:  24%|██▎       | 94/400 [1:20:54<4:24:19, 51.83s/it]"
     ]
    },
    {
     "name": "stdout",
     "output_type": "stream",
     "text": [
      "epoch 94\tloss:223.4648\t\n",
      "95:140\t232.7954\r"
     ]
    },
    {
     "name": "stderr",
     "output_type": "stream",
     "text": [
      "total progress:  24%|██▍       | 95/400 [1:21:45<4:23:20, 51.81s/it]"
     ]
    },
    {
     "name": "stdout",
     "output_type": "stream",
     "text": [
      "epoch 95\tloss:223.4871\t\n",
      "96:140\t225.2447\r"
     ]
    },
    {
     "name": "stderr",
     "output_type": "stream",
     "text": [
      "total progress:  24%|██▍       | 96/400 [1:22:37<4:22:33, 51.82s/it]"
     ]
    },
    {
     "name": "stdout",
     "output_type": "stream",
     "text": [
      "epoch 96\tloss:223.4917\t\n",
      "97:140\t211.9816\r"
     ]
    },
    {
     "name": "stderr",
     "output_type": "stream",
     "text": [
      "total progress:  24%|██▍       | 97/400 [1:23:30<4:22:24, 51.96s/it]"
     ]
    },
    {
     "name": "stdout",
     "output_type": "stream",
     "text": [
      "epoch 97\tloss:223.5008\t\n",
      "98:140\t224.9880\r"
     ]
    },
    {
     "name": "stderr",
     "output_type": "stream",
     "text": [
      "total progress:  24%|██▍       | 98/400 [1:24:22<4:21:37, 51.98s/it]"
     ]
    },
    {
     "name": "stdout",
     "output_type": "stream",
     "text": [
      "epoch 98\tloss:223.5437\t\n",
      "99:140\t222.9872\r"
     ]
    },
    {
     "name": "stderr",
     "output_type": "stream",
     "text": [
      "total progress:  25%|██▍       | 99/400 [1:25:13<4:20:30, 51.93s/it]"
     ]
    },
    {
     "name": "stdout",
     "output_type": "stream",
     "text": [
      "epoch 99\tloss:223.4904\t\n",
      "epoch 100\tloss:223.4302\t\n"
     ]
    },
    {
     "name": "stderr",
     "output_type": "stream",
     "text": [
      "total progress:  25%|██▌       | 100/400 [1:26:06<4:21:11, 52.24s/it]"
     ]
    },
    {
     "name": "stdout",
     "output_type": "stream",
     "text": [
      "101:140\t217.1970\r"
     ]
    },
    {
     "name": "stderr",
     "output_type": "stream",
     "text": [
      "total progress:  25%|██▌       | 101/400 [1:26:57<4:17:11, 51.61s/it]"
     ]
    },
    {
     "name": "stdout",
     "output_type": "stream",
     "text": [
      "epoch 101\tloss:223.4148\t\n",
      "102:140\t214.1908\r"
     ]
    },
    {
     "name": "stderr",
     "output_type": "stream",
     "text": [
      "total progress:  26%|██▌       | 102/400 [1:27:47<4:14:48, 51.30s/it]"
     ]
    },
    {
     "name": "stdout",
     "output_type": "stream",
     "text": [
      "epoch 102\tloss:223.4638\t\n",
      "103:140\t224.2592\r"
     ]
    },
    {
     "name": "stderr",
     "output_type": "stream",
     "text": [
      "total progress:  26%|██▌       | 103/400 [1:28:37<4:12:17, 50.97s/it]"
     ]
    },
    {
     "name": "stdout",
     "output_type": "stream",
     "text": [
      "epoch 103\tloss:223.4003\t\n",
      "104:140\t234.9559\r"
     ]
    },
    {
     "name": "stderr",
     "output_type": "stream",
     "text": [
      "total progress:  26%|██▌       | 104/400 [1:29:28<4:10:32, 50.79s/it]"
     ]
    },
    {
     "name": "stdout",
     "output_type": "stream",
     "text": [
      "epoch 104\tloss:223.4912\t\n",
      "105:140\t227.3495\r"
     ]
    },
    {
     "name": "stderr",
     "output_type": "stream",
     "text": [
      "total progress:  26%|██▋       | 105/400 [1:30:18<4:09:30, 50.75s/it]"
     ]
    },
    {
     "name": "stdout",
     "output_type": "stream",
     "text": [
      "epoch 105\tloss:223.4689\t\n",
      "106:140\t225.1535\r"
     ]
    },
    {
     "name": "stderr",
     "output_type": "stream",
     "text": [
      "total progress:  26%|██▋       | 106/400 [1:31:09<4:09:13, 50.86s/it]"
     ]
    },
    {
     "name": "stdout",
     "output_type": "stream",
     "text": [
      "epoch 106\tloss:223.4800\t\n",
      "107:140\t239.3397\r"
     ]
    },
    {
     "name": "stderr",
     "output_type": "stream",
     "text": [
      "total progress:  27%|██▋       | 107/400 [1:32:00<4:08:20, 50.85s/it]"
     ]
    },
    {
     "name": "stdout",
     "output_type": "stream",
     "text": [
      "epoch 107\tloss:223.4596\t\n",
      "108:140\t220.0134\r"
     ]
    },
    {
     "name": "stderr",
     "output_type": "stream",
     "text": [
      "total progress:  27%|██▋       | 108/400 [1:32:51<4:07:40, 50.89s/it]"
     ]
    },
    {
     "name": "stdout",
     "output_type": "stream",
     "text": [
      "epoch 108\tloss:223.4914\t\n",
      "109:140\t220.9255\r"
     ]
    },
    {
     "name": "stderr",
     "output_type": "stream",
     "text": [
      "total progress:  27%|██▋       | 109/400 [1:33:43<4:07:33, 51.04s/it]"
     ]
    },
    {
     "name": "stdout",
     "output_type": "stream",
     "text": [
      "epoch 109\tloss:223.5079\t\n",
      "110:140\t225.6862\r"
     ]
    },
    {
     "name": "stderr",
     "output_type": "stream",
     "text": [
      "total progress:  28%|██▊       | 110/400 [1:34:34<4:07:01, 51.11s/it]"
     ]
    },
    {
     "name": "stdout",
     "output_type": "stream",
     "text": [
      "epoch 110\tloss:223.4742\t\n",
      "111:140\t231.8712\r"
     ]
    },
    {
     "name": "stderr",
     "output_type": "stream",
     "text": [
      "total progress:  28%|██▊       | 111/400 [1:35:24<4:05:15, 50.92s/it]"
     ]
    },
    {
     "name": "stdout",
     "output_type": "stream",
     "text": [
      "epoch 111\tloss:223.4419\t\n",
      "112:140\t219.8892\r"
     ]
    },
    {
     "name": "stderr",
     "output_type": "stream",
     "text": [
      "total progress:  28%|██▊       | 112/400 [1:36:15<4:03:34, 50.74s/it]"
     ]
    },
    {
     "name": "stdout",
     "output_type": "stream",
     "text": [
      "epoch 112\tloss:223.4668\t\n",
      "113:140\t230.1104\r"
     ]
    },
    {
     "name": "stderr",
     "output_type": "stream",
     "text": [
      "total progress:  28%|██▊       | 113/400 [1:37:06<4:03:08, 50.83s/it]"
     ]
    },
    {
     "name": "stdout",
     "output_type": "stream",
     "text": [
      "epoch 113\tloss:223.4440\t\n",
      "114:140\t213.7611\r"
     ]
    },
    {
     "name": "stderr",
     "output_type": "stream",
     "text": [
      "total progress:  28%|██▊       | 114/400 [1:37:57<4:02:33, 50.89s/it]"
     ]
    },
    {
     "name": "stdout",
     "output_type": "stream",
     "text": [
      "epoch 114\tloss:223.4253\t\n",
      "115:140\t226.0793\r"
     ]
    },
    {
     "name": "stderr",
     "output_type": "stream",
     "text": [
      "total progress:  29%|██▉       | 115/400 [1:38:48<4:01:45, 50.90s/it]"
     ]
    },
    {
     "name": "stdout",
     "output_type": "stream",
     "text": [
      "epoch 115\tloss:223.4365\t\n",
      "116:140\t229.1679\r"
     ]
    },
    {
     "name": "stderr",
     "output_type": "stream",
     "text": [
      "total progress:  29%|██▉       | 116/400 [1:39:39<4:01:14, 50.97s/it]"
     ]
    },
    {
     "name": "stdout",
     "output_type": "stream",
     "text": [
      "epoch 116\tloss:223.4874\t\n",
      "117:140\t209.6265\r"
     ]
    },
    {
     "name": "stderr",
     "output_type": "stream",
     "text": [
      "total progress:  29%|██▉       | 117/400 [1:40:30<4:00:27, 50.98s/it]"
     ]
    },
    {
     "name": "stdout",
     "output_type": "stream",
     "text": [
      "epoch 117\tloss:223.4978\t\n",
      "118:140\t229.2321\r"
     ]
    },
    {
     "name": "stderr",
     "output_type": "stream",
     "text": [
      "total progress:  30%|██▉       | 118/400 [1:41:21<3:59:46, 51.02s/it]"
     ]
    },
    {
     "name": "stdout",
     "output_type": "stream",
     "text": [
      "epoch 118\tloss:223.4341\t\n",
      "119:140\t223.7490\r"
     ]
    },
    {
     "name": "stderr",
     "output_type": "stream",
     "text": [
      "total progress:  30%|██▉       | 119/400 [1:42:12<3:58:29, 50.93s/it]"
     ]
    },
    {
     "name": "stdout",
     "output_type": "stream",
     "text": [
      "epoch 119\tloss:223.4915\t\n",
      "120:140\t231.5767\r"
     ]
    },
    {
     "name": "stderr",
     "output_type": "stream",
     "text": [
      "total progress:  30%|███       | 120/400 [1:43:03<3:57:56, 50.99s/it]"
     ]
    },
    {
     "name": "stdout",
     "output_type": "stream",
     "text": [
      "epoch 120\tloss:223.3816\t\n",
      "121:140\t225.4127\r"
     ]
    },
    {
     "name": "stderr",
     "output_type": "stream",
     "text": [
      "total progress:  30%|███       | 121/400 [1:43:54<3:57:06, 50.99s/it]"
     ]
    },
    {
     "name": "stdout",
     "output_type": "stream",
     "text": [
      "epoch 121\tloss:223.5042\t\n",
      "122:140\t237.4833\r"
     ]
    },
    {
     "name": "stderr",
     "output_type": "stream",
     "text": [
      "total progress:  30%|███       | 122/400 [1:44:45<3:56:06, 50.96s/it]"
     ]
    },
    {
     "name": "stdout",
     "output_type": "stream",
     "text": [
      "epoch 122\tloss:223.3714\t\n",
      "123:140\t216.5814\r"
     ]
    },
    {
     "name": "stderr",
     "output_type": "stream",
     "text": [
      "total progress:  31%|███       | 123/400 [1:45:36<3:55:54, 51.10s/it]"
     ]
    },
    {
     "name": "stdout",
     "output_type": "stream",
     "text": [
      "epoch 123\tloss:223.4413\t\n",
      "124:140\t214.4110\r"
     ]
    },
    {
     "name": "stderr",
     "output_type": "stream",
     "text": [
      "total progress:  31%|███       | 124/400 [1:46:28<3:55:38, 51.23s/it]"
     ]
    },
    {
     "name": "stdout",
     "output_type": "stream",
     "text": [
      "epoch 124\tloss:223.4604\t\n",
      "125:140\t216.0688\r"
     ]
    },
    {
     "name": "stderr",
     "output_type": "stream",
     "text": [
      "total progress:  31%|███▏      | 125/400 [1:47:19<3:54:23, 51.14s/it]"
     ]
    },
    {
     "name": "stdout",
     "output_type": "stream",
     "text": [
      "epoch 125\tloss:223.4556\t\n",
      "126:140\t225.3733\r"
     ]
    },
    {
     "name": "stderr",
     "output_type": "stream",
     "text": [
      "total progress:  32%|███▏      | 126/400 [1:48:10<3:53:32, 51.14s/it]"
     ]
    },
    {
     "name": "stdout",
     "output_type": "stream",
     "text": [
      "epoch 126\tloss:223.4055\t\n",
      "127:140\t232.7600\r"
     ]
    },
    {
     "name": "stderr",
     "output_type": "stream",
     "text": [
      "total progress:  32%|███▏      | 127/400 [1:49:01<3:53:06, 51.23s/it]"
     ]
    },
    {
     "name": "stdout",
     "output_type": "stream",
     "text": [
      "epoch 127\tloss:223.4679\t\n",
      "128:140\t235.1445\r"
     ]
    },
    {
     "name": "stderr",
     "output_type": "stream",
     "text": [
      "total progress:  32%|███▏      | 128/400 [1:49:53<3:52:36, 51.31s/it]"
     ]
    },
    {
     "name": "stdout",
     "output_type": "stream",
     "text": [
      "epoch 128\tloss:223.4596\t\n",
      "129:140\t220.4849\r"
     ]
    },
    {
     "name": "stderr",
     "output_type": "stream",
     "text": [
      "total progress:  32%|███▏      | 129/400 [1:50:44<3:52:25, 51.46s/it]"
     ]
    },
    {
     "name": "stdout",
     "output_type": "stream",
     "text": [
      "epoch 129\tloss:223.5153\t\n",
      "130:140\t228.3690\r"
     ]
    },
    {
     "name": "stderr",
     "output_type": "stream",
     "text": [
      "total progress:  32%|███▎      | 130/400 [1:51:36<3:51:33, 51.46s/it]"
     ]
    },
    {
     "name": "stdout",
     "output_type": "stream",
     "text": [
      "epoch 130\tloss:223.4784\t\n",
      "131:140\t234.6394\r"
     ]
    },
    {
     "name": "stderr",
     "output_type": "stream",
     "text": [
      "total progress:  33%|███▎      | 131/400 [1:52:25<3:48:08, 50.89s/it]"
     ]
    },
    {
     "name": "stdout",
     "output_type": "stream",
     "text": [
      "epoch 131\tloss:223.4761\t\n",
      "132:140\t202.9169\r"
     ]
    },
    {
     "name": "stderr",
     "output_type": "stream",
     "text": [
      "total progress:  33%|███▎      | 132/400 [1:53:15<3:45:41, 50.53s/it]"
     ]
    },
    {
     "name": "stdout",
     "output_type": "stream",
     "text": [
      "epoch 132\tloss:223.4505\t\n",
      "133:140\t232.2160\r"
     ]
    },
    {
     "name": "stderr",
     "output_type": "stream",
     "text": [
      "total progress:  33%|███▎      | 133/400 [1:54:05<3:43:43, 50.28s/it]"
     ]
    },
    {
     "name": "stdout",
     "output_type": "stream",
     "text": [
      "epoch 133\tloss:223.4495\t\n",
      "134:140\t221.5163\r"
     ]
    },
    {
     "name": "stderr",
     "output_type": "stream",
     "text": [
      "total progress:  34%|███▎      | 134/400 [1:54:55<3:42:13, 50.12s/it]"
     ]
    },
    {
     "name": "stdout",
     "output_type": "stream",
     "text": [
      "epoch 134\tloss:223.4359\t\n",
      "135:140\t217.3707\r"
     ]
    },
    {
     "name": "stderr",
     "output_type": "stream",
     "text": [
      "total progress:  34%|███▍      | 135/400 [1:55:44<3:40:41, 49.97s/it]"
     ]
    },
    {
     "name": "stdout",
     "output_type": "stream",
     "text": [
      "epoch 135\tloss:223.4427\t\n",
      "136:140\t233.5711\r"
     ]
    },
    {
     "name": "stderr",
     "output_type": "stream",
     "text": [
      "total progress:  34%|███▍      | 136/400 [1:56:34<3:39:25, 49.87s/it]"
     ]
    },
    {
     "name": "stdout",
     "output_type": "stream",
     "text": [
      "epoch 136\tloss:223.4456\t\n",
      "137:140\t228.9445\r"
     ]
    },
    {
     "name": "stderr",
     "output_type": "stream",
     "text": [
      "total progress:  34%|███▍      | 137/400 [1:57:24<3:38:23, 49.82s/it]"
     ]
    },
    {
     "name": "stdout",
     "output_type": "stream",
     "text": [
      "epoch 137\tloss:223.4181\t\n",
      "138:140\t216.4696\r"
     ]
    },
    {
     "name": "stderr",
     "output_type": "stream",
     "text": [
      "total progress:  34%|███▍      | 138/400 [1:58:13<3:37:21, 49.78s/it]"
     ]
    },
    {
     "name": "stdout",
     "output_type": "stream",
     "text": [
      "epoch 138\tloss:223.4588\t\n",
      "139:140\t226.0662\r"
     ]
    },
    {
     "name": "stderr",
     "output_type": "stream",
     "text": [
      "total progress:  35%|███▍      | 139/400 [1:59:03<3:36:06, 49.68s/it]"
     ]
    },
    {
     "name": "stdout",
     "output_type": "stream",
     "text": [
      "epoch 139\tloss:223.4993\t\n",
      "140:140\t222.3569\r"
     ]
    },
    {
     "name": "stderr",
     "output_type": "stream",
     "text": [
      "total progress:  35%|███▌      | 140/400 [1:59:53<3:35:23, 49.71s/it]"
     ]
    },
    {
     "name": "stdout",
     "output_type": "stream",
     "text": [
      "epoch 140\tloss:223.4668\t\n",
      "141:140\t229.0643\r"
     ]
    },
    {
     "name": "stderr",
     "output_type": "stream",
     "text": [
      "total progress:  35%|███▌      | 141/400 [2:00:42<3:34:33, 49.70s/it]"
     ]
    },
    {
     "name": "stdout",
     "output_type": "stream",
     "text": [
      "epoch 141\tloss:223.4632\t\n",
      "142:140\t226.9851\r"
     ]
    },
    {
     "name": "stderr",
     "output_type": "stream",
     "text": [
      "total progress:  36%|███▌      | 142/400 [2:01:32<3:33:37, 49.68s/it]"
     ]
    },
    {
     "name": "stdout",
     "output_type": "stream",
     "text": [
      "epoch 142\tloss:223.5017\t\n",
      "143:140\t226.9651\r"
     ]
    },
    {
     "name": "stderr",
     "output_type": "stream",
     "text": [
      "total progress:  36%|███▌      | 143/400 [2:02:21<3:32:36, 49.64s/it]"
     ]
    },
    {
     "name": "stdout",
     "output_type": "stream",
     "text": [
      "epoch 143\tloss:223.4713\t\n",
      "144:140\t224.3423\r"
     ]
    },
    {
     "name": "stderr",
     "output_type": "stream",
     "text": [
      "total progress:  36%|███▌      | 144/400 [2:03:11<3:31:34, 49.59s/it]"
     ]
    },
    {
     "name": "stdout",
     "output_type": "stream",
     "text": [
      "epoch 144\tloss:223.4582\t\n",
      "145:140\t217.7117\r"
     ]
    },
    {
     "name": "stderr",
     "output_type": "stream",
     "text": [
      "total progress:  36%|███▋      | 145/400 [2:04:01<3:30:55, 49.63s/it]"
     ]
    },
    {
     "name": "stdout",
     "output_type": "stream",
     "text": [
      "epoch 145\tloss:223.4393\t\n",
      "146:140\t211.5323\r"
     ]
    },
    {
     "name": "stderr",
     "output_type": "stream",
     "text": [
      "total progress:  36%|███▋      | 146/400 [2:04:50<3:30:06, 49.63s/it]"
     ]
    },
    {
     "name": "stdout",
     "output_type": "stream",
     "text": [
      "epoch 146\tloss:223.5025\t\n",
      "147:140\t225.8221\r"
     ]
    },
    {
     "name": "stderr",
     "output_type": "stream",
     "text": [
      "total progress:  37%|███▋      | 147/400 [2:05:40<3:29:10, 49.60s/it]"
     ]
    },
    {
     "name": "stdout",
     "output_type": "stream",
     "text": [
      "epoch 147\tloss:223.5045\t\n",
      "148:140\t240.8609\r"
     ]
    },
    {
     "name": "stderr",
     "output_type": "stream",
     "text": [
      "total progress:  37%|███▋      | 148/400 [2:06:29<3:28:18, 49.60s/it]"
     ]
    },
    {
     "name": "stdout",
     "output_type": "stream",
     "text": [
      "epoch 148\tloss:223.4898\t\n",
      "149:140\t231.7386\r"
     ]
    },
    {
     "name": "stderr",
     "output_type": "stream",
     "text": [
      "total progress:  37%|███▋      | 149/400 [2:07:19<3:27:22, 49.57s/it]"
     ]
    },
    {
     "name": "stdout",
     "output_type": "stream",
     "text": [
      "epoch 149\tloss:223.4209\t\n",
      "150:140\t229.5072\r"
     ]
    },
    {
     "name": "stderr",
     "output_type": "stream",
     "text": [
      "total progress:  38%|███▊      | 150/400 [2:08:09<3:26:51, 49.65s/it]"
     ]
    },
    {
     "name": "stdout",
     "output_type": "stream",
     "text": [
      "epoch 150\tloss:223.4401\t\n",
      "151:140\t230.8874\r"
     ]
    },
    {
     "name": "stderr",
     "output_type": "stream",
     "text": [
      "total progress:  38%|███▊      | 151/400 [2:08:58<3:25:49, 49.60s/it]"
     ]
    },
    {
     "name": "stdout",
     "output_type": "stream",
     "text": [
      "epoch 151\tloss:223.4332\t\n",
      "152:140\t225.6792\r"
     ]
    },
    {
     "name": "stderr",
     "output_type": "stream",
     "text": [
      "total progress:  38%|███▊      | 152/400 [2:09:48<3:24:56, 49.58s/it]"
     ]
    },
    {
     "name": "stdout",
     "output_type": "stream",
     "text": [
      "epoch 152\tloss:223.5214\t\n",
      "153:140\t230.7522\r"
     ]
    },
    {
     "name": "stderr",
     "output_type": "stream",
     "text": [
      "total progress:  38%|███▊      | 153/400 [2:10:37<3:23:58, 49.55s/it]"
     ]
    },
    {
     "name": "stdout",
     "output_type": "stream",
     "text": [
      "epoch 153\tloss:223.5344\t\n",
      "154:140\t223.5574\r"
     ]
    },
    {
     "name": "stderr",
     "output_type": "stream",
     "text": [
      "total progress:  38%|███▊      | 154/400 [2:11:27<3:23:14, 49.57s/it]"
     ]
    },
    {
     "name": "stdout",
     "output_type": "stream",
     "text": [
      "epoch 154\tloss:223.4754\t\n",
      "155:140\t231.4531\r"
     ]
    },
    {
     "name": "stderr",
     "output_type": "stream",
     "text": [
      "total progress:  39%|███▉      | 155/400 [2:12:16<3:22:19, 49.55s/it]"
     ]
    },
    {
     "name": "stdout",
     "output_type": "stream",
     "text": [
      "epoch 155\tloss:223.4997\t\n",
      "156:140\t229.1060\r"
     ]
    },
    {
     "name": "stderr",
     "output_type": "stream",
     "text": [
      "total progress:  39%|███▉      | 156/400 [2:13:06<3:21:29, 49.55s/it]"
     ]
    },
    {
     "name": "stdout",
     "output_type": "stream",
     "text": [
      "epoch 156\tloss:223.4216\t\n",
      "157:140\t224.4564\r"
     ]
    },
    {
     "name": "stderr",
     "output_type": "stream",
     "text": [
      "total progress:  39%|███▉      | 157/400 [2:13:55<3:20:40, 49.55s/it]"
     ]
    },
    {
     "name": "stdout",
     "output_type": "stream",
     "text": [
      "epoch 157\tloss:223.4311\t\n",
      "158:140\t212.7525\r"
     ]
    },
    {
     "name": "stderr",
     "output_type": "stream",
     "text": [
      "total progress:  40%|███▉      | 158/400 [2:14:45<3:19:49, 49.54s/it]"
     ]
    },
    {
     "name": "stdout",
     "output_type": "stream",
     "text": [
      "epoch 158\tloss:223.4220\t\n",
      "159:140\t218.0567\r"
     ]
    },
    {
     "name": "stderr",
     "output_type": "stream",
     "text": [
      "total progress:  40%|███▉      | 159/400 [2:15:34<3:18:59, 49.54s/it]"
     ]
    },
    {
     "name": "stdout",
     "output_type": "stream",
     "text": [
      "epoch 159\tloss:223.4066\t\n",
      "160:140\t231.5871\r"
     ]
    },
    {
     "name": "stderr",
     "output_type": "stream",
     "text": [
      "total progress:  40%|████      | 160/400 [2:16:24<3:18:00, 49.50s/it]"
     ]
    },
    {
     "name": "stdout",
     "output_type": "stream",
     "text": [
      "epoch 160\tloss:223.3661\t\n",
      "161:140\t224.7953\r"
     ]
    },
    {
     "name": "stderr",
     "output_type": "stream",
     "text": [
      "total progress:  40%|████      | 161/400 [2:17:14<3:17:29, 49.58s/it]"
     ]
    },
    {
     "name": "stdout",
     "output_type": "stream",
     "text": [
      "epoch 161\tloss:223.4370\t\n",
      "162:140\t214.2321\r"
     ]
    },
    {
     "name": "stderr",
     "output_type": "stream",
     "text": [
      "total progress:  40%|████      | 162/400 [2:18:03<3:16:50, 49.62s/it]"
     ]
    },
    {
     "name": "stdout",
     "output_type": "stream",
     "text": [
      "epoch 162\tloss:223.4357\t\n",
      "163:140\t221.0781\r"
     ]
    },
    {
     "name": "stderr",
     "output_type": "stream",
     "text": [
      "total progress:  41%|████      | 163/400 [2:18:53<3:15:59, 49.62s/it]"
     ]
    },
    {
     "name": "stdout",
     "output_type": "stream",
     "text": [
      "epoch 163\tloss:223.4730\t\n",
      "164:140\t225.8142\r"
     ]
    },
    {
     "name": "stderr",
     "output_type": "stream",
     "text": [
      "total progress:  41%|████      | 164/400 [2:19:43<3:15:06, 49.60s/it]"
     ]
    },
    {
     "name": "stdout",
     "output_type": "stream",
     "text": [
      "epoch 164\tloss:223.4390\t\n",
      "165:140\t226.8842\r"
     ]
    },
    {
     "name": "stderr",
     "output_type": "stream",
     "text": [
      "total progress:  41%|████▏     | 165/400 [2:20:32<3:14:13, 49.59s/it]"
     ]
    },
    {
     "name": "stdout",
     "output_type": "stream",
     "text": [
      "epoch 165\tloss:223.3973\t\n",
      "166:140\t220.2003\r"
     ]
    },
    {
     "name": "stderr",
     "output_type": "stream",
     "text": [
      "total progress:  42%|████▏     | 166/400 [2:21:21<3:13:05, 49.51s/it]"
     ]
    },
    {
     "name": "stdout",
     "output_type": "stream",
     "text": [
      "epoch 166\tloss:223.4780\t\n",
      "167:140\t228.4336\r"
     ]
    },
    {
     "name": "stderr",
     "output_type": "stream",
     "text": [
      "total progress:  42%|████▏     | 167/400 [2:22:11<3:12:08, 49.48s/it]"
     ]
    },
    {
     "name": "stdout",
     "output_type": "stream",
     "text": [
      "epoch 167\tloss:223.4443\t\n",
      "168:140\t225.1759\r"
     ]
    },
    {
     "name": "stderr",
     "output_type": "stream",
     "text": [
      "total progress:  42%|████▏     | 168/400 [2:23:01<3:11:43, 49.58s/it]"
     ]
    },
    {
     "name": "stdout",
     "output_type": "stream",
     "text": [
      "epoch 168\tloss:223.4137\t\n",
      "169:140\t215.7653\r"
     ]
    },
    {
     "name": "stderr",
     "output_type": "stream",
     "text": [
      "total progress:  42%|████▏     | 169/400 [2:23:50<3:10:50, 49.57s/it]"
     ]
    },
    {
     "name": "stdout",
     "output_type": "stream",
     "text": [
      "epoch 169\tloss:223.4382\t\n",
      "170:140\t235.1830\r"
     ]
    },
    {
     "name": "stderr",
     "output_type": "stream",
     "text": [
      "total progress:  42%|████▎     | 170/400 [2:24:40<3:10:13, 49.62s/it]"
     ]
    },
    {
     "name": "stdout",
     "output_type": "stream",
     "text": [
      "epoch 170\tloss:223.4423\t\n",
      "171:140\t229.9323\r"
     ]
    },
    {
     "name": "stderr",
     "output_type": "stream",
     "text": [
      "total progress:  43%|████▎     | 171/400 [2:25:30<3:09:38, 49.69s/it]"
     ]
    },
    {
     "name": "stdout",
     "output_type": "stream",
     "text": [
      "epoch 171\tloss:223.5021\t\n",
      "172:140\t219.0987\r"
     ]
    },
    {
     "name": "stderr",
     "output_type": "stream",
     "text": [
      "total progress:  43%|████▎     | 172/400 [2:26:19<3:08:41, 49.66s/it]"
     ]
    },
    {
     "name": "stdout",
     "output_type": "stream",
     "text": [
      "epoch 172\tloss:223.4580\t\n",
      "173:140\t232.9237\r"
     ]
    },
    {
     "name": "stderr",
     "output_type": "stream",
     "text": [
      "total progress:  43%|████▎     | 173/400 [2:27:09<3:07:49, 49.65s/it]"
     ]
    },
    {
     "name": "stdout",
     "output_type": "stream",
     "text": [
      "epoch 173\tloss:223.4429\t\n",
      "174:140\t219.6771\r"
     ]
    },
    {
     "name": "stderr",
     "output_type": "stream",
     "text": [
      "total progress:  44%|████▎     | 174/400 [2:27:58<3:06:43, 49.57s/it]"
     ]
    },
    {
     "name": "stdout",
     "output_type": "stream",
     "text": [
      "epoch 174\tloss:223.4944\t\n",
      "175:140\t225.8445\r"
     ]
    },
    {
     "name": "stderr",
     "output_type": "stream",
     "text": [
      "total progress:  44%|████▍     | 175/400 [2:28:48<3:05:49, 49.55s/it]"
     ]
    },
    {
     "name": "stdout",
     "output_type": "stream",
     "text": [
      "epoch 175\tloss:223.4366\t\n",
      "176:140\t222.9506\r"
     ]
    },
    {
     "name": "stderr",
     "output_type": "stream",
     "text": [
      "total progress:  44%|████▍     | 176/400 [2:29:37<3:05:03, 49.57s/it]"
     ]
    },
    {
     "name": "stdout",
     "output_type": "stream",
     "text": [
      "epoch 176\tloss:223.4099\t\n",
      "177:140\t228.9535\r"
     ]
    },
    {
     "name": "stderr",
     "output_type": "stream",
     "text": [
      "total progress:  44%|████▍     | 177/400 [2:30:27<3:03:59, 49.50s/it]"
     ]
    },
    {
     "name": "stdout",
     "output_type": "stream",
     "text": [
      "epoch 177\tloss:223.4856\t\n",
      "178:140\t225.9344\r"
     ]
    },
    {
     "name": "stderr",
     "output_type": "stream",
     "text": [
      "total progress:  44%|████▍     | 178/400 [2:31:16<3:03:21, 49.56s/it]"
     ]
    },
    {
     "name": "stdout",
     "output_type": "stream",
     "text": [
      "epoch 178\tloss:223.4131\t\n",
      "179:140\t225.5036\r"
     ]
    },
    {
     "name": "stderr",
     "output_type": "stream",
     "text": [
      "total progress:  45%|████▍     | 179/400 [2:32:06<3:02:43, 49.61s/it]"
     ]
    },
    {
     "name": "stdout",
     "output_type": "stream",
     "text": [
      "epoch 179\tloss:223.4673\t\n",
      "180:140\t231.6644\r"
     ]
    },
    {
     "name": "stderr",
     "output_type": "stream",
     "text": [
      "total progress:  45%|████▌     | 180/400 [2:32:56<3:01:59, 49.64s/it]"
     ]
    },
    {
     "name": "stdout",
     "output_type": "stream",
     "text": [
      "epoch 180\tloss:223.3633\t\n",
      "181:140\t225.6205\r"
     ]
    },
    {
     "name": "stderr",
     "output_type": "stream",
     "text": [
      "total progress:  45%|████▌     | 181/400 [2:33:46<3:01:13, 49.65s/it]"
     ]
    },
    {
     "name": "stdout",
     "output_type": "stream",
     "text": [
      "epoch 181\tloss:223.4856\t\n",
      "182:140\t215.1241\r"
     ]
    },
    {
     "name": "stderr",
     "output_type": "stream",
     "text": [
      "total progress:  46%|████▌     | 182/400 [2:34:35<3:00:20, 49.64s/it]"
     ]
    },
    {
     "name": "stdout",
     "output_type": "stream",
     "text": [
      "epoch 182\tloss:223.4473\t\n",
      "183:140\t228.7374\r"
     ]
    },
    {
     "name": "stderr",
     "output_type": "stream",
     "text": [
      "total progress:  46%|████▌     | 183/400 [2:35:25<2:59:25, 49.61s/it]"
     ]
    },
    {
     "name": "stdout",
     "output_type": "stream",
     "text": [
      "epoch 183\tloss:223.4766\t\n",
      "184:140\t236.5403\r"
     ]
    },
    {
     "name": "stderr",
     "output_type": "stream",
     "text": [
      "total progress:  46%|████▌     | 184/400 [2:36:14<2:58:34, 49.61s/it]"
     ]
    },
    {
     "name": "stdout",
     "output_type": "stream",
     "text": [
      "epoch 184\tloss:223.4055\t\n",
      "185:140\t222.5343\r"
     ]
    },
    {
     "name": "stderr",
     "output_type": "stream",
     "text": [
      "total progress:  46%|████▋     | 185/400 [2:37:04<2:57:43, 49.60s/it]"
     ]
    },
    {
     "name": "stdout",
     "output_type": "stream",
     "text": [
      "epoch 185\tloss:223.4482\t\n",
      "186:140\t237.4162\r"
     ]
    },
    {
     "name": "stderr",
     "output_type": "stream",
     "text": [
      "total progress:  46%|████▋     | 186/400 [2:37:54<2:57:01, 49.63s/it]"
     ]
    },
    {
     "name": "stdout",
     "output_type": "stream",
     "text": [
      "epoch 186\tloss:223.4592\t\n",
      "187:140\t224.8539\r"
     ]
    },
    {
     "name": "stderr",
     "output_type": "stream",
     "text": [
      "total progress:  47%|████▋     | 187/400 [2:38:43<2:56:11, 49.63s/it]"
     ]
    },
    {
     "name": "stdout",
     "output_type": "stream",
     "text": [
      "epoch 187\tloss:223.4344\t\n",
      "188:140\t217.0851\r"
     ]
    },
    {
     "name": "stderr",
     "output_type": "stream",
     "text": [
      "total progress:  47%|████▋     | 188/400 [2:39:33<2:55:15, 49.60s/it]"
     ]
    },
    {
     "name": "stdout",
     "output_type": "stream",
     "text": [
      "epoch 188\tloss:223.5108\t\n",
      "189:140\t215.8837\r"
     ]
    },
    {
     "name": "stderr",
     "output_type": "stream",
     "text": [
      "total progress:  47%|████▋     | 189/400 [2:40:22<2:54:23, 49.59s/it]"
     ]
    },
    {
     "name": "stdout",
     "output_type": "stream",
     "text": [
      "epoch 189\tloss:223.4796\t\n",
      "190:140\t226.6322\r"
     ]
    },
    {
     "name": "stderr",
     "output_type": "stream",
     "text": [
      "total progress:  48%|████▊     | 190/400 [2:41:12<2:53:47, 49.65s/it]"
     ]
    },
    {
     "name": "stdout",
     "output_type": "stream",
     "text": [
      "epoch 190\tloss:223.4725\t\n",
      "191:140\t224.1664\r"
     ]
    },
    {
     "name": "stderr",
     "output_type": "stream",
     "text": [
      "total progress:  48%|████▊     | 191/400 [2:42:02<2:52:46, 49.60s/it]"
     ]
    },
    {
     "name": "stdout",
     "output_type": "stream",
     "text": [
      "epoch 191\tloss:223.4940\t\n",
      "192:140\t220.5723\r"
     ]
    },
    {
     "name": "stderr",
     "output_type": "stream",
     "text": [
      "total progress:  48%|████▊     | 192/400 [2:42:51<2:51:45, 49.54s/it]"
     ]
    },
    {
     "name": "stdout",
     "output_type": "stream",
     "text": [
      "epoch 192\tloss:223.4917\t\n",
      "193:140\t218.0639\r"
     ]
    },
    {
     "name": "stderr",
     "output_type": "stream",
     "text": [
      "total progress:  48%|████▊     | 193/400 [2:43:41<2:50:57, 49.55s/it]"
     ]
    },
    {
     "name": "stdout",
     "output_type": "stream",
     "text": [
      "epoch 193\tloss:223.4303\t\n",
      "194:140\t210.8010\r"
     ]
    },
    {
     "name": "stderr",
     "output_type": "stream",
     "text": [
      "total progress:  48%|████▊     | 194/400 [2:44:30<2:50:09, 49.56s/it]"
     ]
    },
    {
     "name": "stdout",
     "output_type": "stream",
     "text": [
      "epoch 194\tloss:223.4364\t\n",
      "195:140\t219.1221\r"
     ]
    },
    {
     "name": "stderr",
     "output_type": "stream",
     "text": [
      "total progress:  49%|████▉     | 195/400 [2:45:20<2:49:28, 49.60s/it]"
     ]
    },
    {
     "name": "stdout",
     "output_type": "stream",
     "text": [
      "epoch 195\tloss:223.3866\t\n",
      "196:140\t221.4097\r"
     ]
    },
    {
     "name": "stderr",
     "output_type": "stream",
     "text": [
      "total progress:  49%|████▉     | 196/400 [2:46:10<2:48:42, 49.62s/it]"
     ]
    },
    {
     "name": "stdout",
     "output_type": "stream",
     "text": [
      "epoch 196\tloss:223.4866\t\n",
      "197:140\t232.7752\r"
     ]
    },
    {
     "name": "stderr",
     "output_type": "stream",
     "text": [
      "total progress:  49%|████▉     | 197/400 [2:46:59<2:47:54, 49.63s/it]"
     ]
    },
    {
     "name": "stdout",
     "output_type": "stream",
     "text": [
      "epoch 197\tloss:223.3998\t\n",
      "198:140\t226.9127\r"
     ]
    },
    {
     "name": "stderr",
     "output_type": "stream",
     "text": [
      "total progress:  50%|████▉     | 198/400 [2:47:49<2:47:01, 49.61s/it]"
     ]
    },
    {
     "name": "stdout",
     "output_type": "stream",
     "text": [
      "epoch 198\tloss:223.4364\t\n",
      "199:140\t218.3625\r"
     ]
    },
    {
     "name": "stderr",
     "output_type": "stream",
     "text": [
      "total progress:  50%|████▉     | 199/400 [2:48:38<2:46:13, 49.62s/it]"
     ]
    },
    {
     "name": "stdout",
     "output_type": "stream",
     "text": [
      "epoch 199\tloss:223.4309\t\n",
      "epoch 200\tloss:223.4667\t\n"
     ]
    },
    {
     "name": "stderr",
     "output_type": "stream",
     "text": [
      "total progress:  50%|█████     | 200/400 [2:49:29<2:46:10, 49.85s/it]"
     ]
    },
    {
     "name": "stdout",
     "output_type": "stream",
     "text": [
      "201:140\t242.0226\r"
     ]
    },
    {
     "name": "stderr",
     "output_type": "stream",
     "text": [
      "total progress:  50%|█████     | 201/400 [2:50:16<2:43:06, 49.18s/it]"
     ]
    },
    {
     "name": "stdout",
     "output_type": "stream",
     "text": [
      "epoch 201\tloss:223.4925\t\n",
      "202:140\t224.7232\r"
     ]
    },
    {
     "name": "stderr",
     "output_type": "stream",
     "text": [
      "total progress:  50%|█████     | 202/400 [2:51:04<2:40:59, 48.79s/it]"
     ]
    },
    {
     "name": "stdout",
     "output_type": "stream",
     "text": [
      "epoch 202\tloss:223.4641\t\n",
      "203:140\t224.7938\r"
     ]
    },
    {
     "name": "stderr",
     "output_type": "stream",
     "text": [
      "total progress:  51%|█████     | 203/400 [2:51:52<2:39:24, 48.55s/it]"
     ]
    },
    {
     "name": "stdout",
     "output_type": "stream",
     "text": [
      "epoch 203\tloss:223.4551\t\n",
      "204:140\t217.3829\r"
     ]
    },
    {
     "name": "stderr",
     "output_type": "stream",
     "text": [
      "total progress:  51%|█████     | 204/400 [2:52:41<2:38:46, 48.60s/it]"
     ]
    },
    {
     "name": "stdout",
     "output_type": "stream",
     "text": [
      "epoch 204\tloss:223.4592\t\n",
      "205:140\t216.8676\r"
     ]
    },
    {
     "name": "stderr",
     "output_type": "stream",
     "text": [
      "total progress:  51%|█████▏    | 205/400 [2:53:30<2:38:15, 48.69s/it]"
     ]
    },
    {
     "name": "stdout",
     "output_type": "stream",
     "text": [
      "epoch 205\tloss:223.4885\t\n",
      "206:140\t236.9372\r"
     ]
    },
    {
     "name": "stderr",
     "output_type": "stream",
     "text": [
      "total progress:  52%|█████▏    | 206/400 [2:54:19<2:37:49, 48.81s/it]"
     ]
    },
    {
     "name": "stdout",
     "output_type": "stream",
     "text": [
      "epoch 206\tloss:223.5242\t\n",
      "207:140\t227.5039\r"
     ]
    },
    {
     "name": "stderr",
     "output_type": "stream",
     "text": [
      "total progress:  52%|█████▏    | 207/400 [2:55:08<2:37:01, 48.82s/it]"
     ]
    },
    {
     "name": "stdout",
     "output_type": "stream",
     "text": [
      "epoch 207\tloss:223.4406\t\n",
      "208:140\t228.7085\r"
     ]
    },
    {
     "name": "stderr",
     "output_type": "stream",
     "text": [
      "total progress:  52%|█████▏    | 208/400 [2:55:57<2:36:24, 48.88s/it]"
     ]
    },
    {
     "name": "stdout",
     "output_type": "stream",
     "text": [
      "epoch 208\tloss:223.4377\t\n",
      "209:140\t235.0574\r"
     ]
    },
    {
     "name": "stderr",
     "output_type": "stream",
     "text": [
      "total progress:  52%|█████▏    | 209/400 [2:56:46<2:35:37, 48.89s/it]"
     ]
    },
    {
     "name": "stdout",
     "output_type": "stream",
     "text": [
      "epoch 209\tloss:223.4027\t\n",
      "210:140\t226.6163\r"
     ]
    },
    {
     "name": "stderr",
     "output_type": "stream",
     "text": [
      "total progress:  52%|█████▎    | 210/400 [2:57:35<2:34:58, 48.94s/it]"
     ]
    },
    {
     "name": "stdout",
     "output_type": "stream",
     "text": [
      "epoch 210\tloss:223.3806\t\n",
      "211:140\t227.1212\r"
     ]
    },
    {
     "name": "stderr",
     "output_type": "stream",
     "text": [
      "total progress:  53%|█████▎    | 211/400 [2:58:24<2:34:05, 48.92s/it]"
     ]
    },
    {
     "name": "stdout",
     "output_type": "stream",
     "text": [
      "epoch 211\tloss:223.4779\t\n",
      "212:140\t217.2854\r"
     ]
    },
    {
     "name": "stderr",
     "output_type": "stream",
     "text": [
      "total progress:  53%|█████▎    | 212/400 [2:59:13<2:33:09, 48.88s/it]"
     ]
    },
    {
     "name": "stdout",
     "output_type": "stream",
     "text": [
      "epoch 212\tloss:223.4792\t\n",
      "213:140\t241.4519\r"
     ]
    },
    {
     "name": "stderr",
     "output_type": "stream",
     "text": [
      "total progress:  53%|█████▎    | 213/400 [3:00:01<2:32:21, 48.89s/it]"
     ]
    },
    {
     "name": "stdout",
     "output_type": "stream",
     "text": [
      "epoch 213\tloss:223.4700\t\n",
      "214:140\t222.9058\r"
     ]
    },
    {
     "name": "stderr",
     "output_type": "stream",
     "text": [
      "total progress:  54%|█████▎    | 214/400 [3:00:51<2:31:46, 48.96s/it]"
     ]
    },
    {
     "name": "stdout",
     "output_type": "stream",
     "text": [
      "epoch 214\tloss:223.3877\t\n",
      "215:140\t223.2371\r"
     ]
    },
    {
     "name": "stderr",
     "output_type": "stream",
     "text": [
      "total progress:  54%|█████▍    | 215/400 [3:01:40<2:31:14, 49.05s/it]"
     ]
    },
    {
     "name": "stdout",
     "output_type": "stream",
     "text": [
      "epoch 215\tloss:223.4472\t\n",
      "216:140\t218.9054\r"
     ]
    },
    {
     "name": "stderr",
     "output_type": "stream",
     "text": [
      "total progress:  54%|█████▍    | 216/400 [3:02:29<2:30:33, 49.10s/it]"
     ]
    },
    {
     "name": "stdout",
     "output_type": "stream",
     "text": [
      "epoch 216\tloss:223.4962\t\n",
      "217:140\t215.2590\r"
     ]
    },
    {
     "name": "stderr",
     "output_type": "stream",
     "text": [
      "total progress:  54%|█████▍    | 217/400 [3:03:18<2:29:49, 49.12s/it]"
     ]
    },
    {
     "name": "stdout",
     "output_type": "stream",
     "text": [
      "epoch 217\tloss:223.5237\t\n",
      "218:140\t228.5279\r"
     ]
    },
    {
     "name": "stderr",
     "output_type": "stream",
     "text": [
      "total progress:  55%|█████▍    | 218/400 [3:04:07<2:28:53, 49.09s/it]"
     ]
    },
    {
     "name": "stdout",
     "output_type": "stream",
     "text": [
      "epoch 218\tloss:223.3978\t\n",
      "219:140\t226.5493\r"
     ]
    },
    {
     "name": "stderr",
     "output_type": "stream",
     "text": [
      "total progress:  55%|█████▍    | 219/400 [3:04:56<2:27:53, 49.03s/it]"
     ]
    },
    {
     "name": "stdout",
     "output_type": "stream",
     "text": [
      "epoch 219\tloss:223.4872\t\n",
      "220:140\t227.2548\r"
     ]
    },
    {
     "name": "stderr",
     "output_type": "stream",
     "text": [
      "total progress:  55%|█████▌    | 220/400 [3:05:45<2:27:00, 49.00s/it]"
     ]
    },
    {
     "name": "stdout",
     "output_type": "stream",
     "text": [
      "epoch 220\tloss:223.4889\t\n",
      "221:140\t236.5516\r"
     ]
    },
    {
     "name": "stderr",
     "output_type": "stream",
     "text": [
      "total progress:  55%|█████▌    | 221/400 [3:06:34<2:26:15, 49.03s/it]"
     ]
    },
    {
     "name": "stdout",
     "output_type": "stream",
     "text": [
      "epoch 221\tloss:223.4172\t\n",
      "222:140\t234.1588\r"
     ]
    },
    {
     "name": "stderr",
     "output_type": "stream",
     "text": [
      "total progress:  56%|█████▌    | 222/400 [3:07:23<2:25:30, 49.05s/it]"
     ]
    },
    {
     "name": "stdout",
     "output_type": "stream",
     "text": [
      "epoch 222\tloss:223.4495\t\n",
      "223:140\t219.2112\r"
     ]
    },
    {
     "name": "stderr",
     "output_type": "stream",
     "text": [
      "total progress:  56%|█████▌    | 223/400 [3:08:12<2:24:52, 49.11s/it]"
     ]
    },
    {
     "name": "stdout",
     "output_type": "stream",
     "text": [
      "epoch 223\tloss:223.5059\t\n",
      "224:140\t228.8862\r"
     ]
    },
    {
     "name": "stderr",
     "output_type": "stream",
     "text": [
      "total progress:  56%|█████▌    | 224/400 [3:09:02<2:24:15, 49.18s/it]"
     ]
    },
    {
     "name": "stdout",
     "output_type": "stream",
     "text": [
      "epoch 224\tloss:223.4979\t\n",
      "225:140\t221.6819\r"
     ]
    },
    {
     "name": "stderr",
     "output_type": "stream",
     "text": [
      "total progress:  56%|█████▋    | 225/400 [3:09:51<2:23:31, 49.21s/it]"
     ]
    },
    {
     "name": "stdout",
     "output_type": "stream",
     "text": [
      "epoch 225\tloss:223.4697\t\n",
      "226:140\t230.1129\r"
     ]
    },
    {
     "name": "stderr",
     "output_type": "stream",
     "text": [
      "total progress:  56%|█████▋    | 226/400 [3:10:40<2:22:39, 49.19s/it]"
     ]
    },
    {
     "name": "stdout",
     "output_type": "stream",
     "text": [
      "epoch 226\tloss:223.3880\t\n",
      "227:140\t217.7794\r"
     ]
    },
    {
     "name": "stderr",
     "output_type": "stream",
     "text": [
      "total progress:  57%|█████▋    | 227/400 [3:11:29<2:21:50, 49.19s/it]"
     ]
    },
    {
     "name": "stdout",
     "output_type": "stream",
     "text": [
      "epoch 227\tloss:223.3419\t\n",
      "228:140\t218.8728\r"
     ]
    },
    {
     "name": "stderr",
     "output_type": "stream",
     "text": [
      "total progress:  57%|█████▋    | 228/400 [3:12:19<2:21:01, 49.19s/it]"
     ]
    },
    {
     "name": "stdout",
     "output_type": "stream",
     "text": [
      "epoch 228\tloss:223.4339\t\n",
      "229:140\t232.4869\r"
     ]
    },
    {
     "name": "stderr",
     "output_type": "stream",
     "text": [
      "total progress:  57%|█████▋    | 229/400 [3:13:08<2:20:10, 49.18s/it]"
     ]
    },
    {
     "name": "stdout",
     "output_type": "stream",
     "text": [
      "epoch 229\tloss:223.5008\t\n",
      "230:140\t219.9794\r"
     ]
    },
    {
     "name": "stderr",
     "output_type": "stream",
     "text": [
      "total progress:  57%|█████▊    | 230/400 [3:13:57<2:19:08, 49.11s/it]"
     ]
    },
    {
     "name": "stdout",
     "output_type": "stream",
     "text": [
      "epoch 230\tloss:223.5115\t\n",
      "231:140\t232.1978\r"
     ]
    },
    {
     "name": "stderr",
     "output_type": "stream",
     "text": [
      "total progress:  58%|█████▊    | 231/400 [3:14:46<2:18:15, 49.09s/it]"
     ]
    },
    {
     "name": "stdout",
     "output_type": "stream",
     "text": [
      "epoch 231\tloss:223.4347\t\n",
      "232:140\t216.0137\r"
     ]
    },
    {
     "name": "stderr",
     "output_type": "stream",
     "text": [
      "total progress:  58%|█████▊    | 232/400 [3:15:35<2:17:24, 49.08s/it]"
     ]
    },
    {
     "name": "stdout",
     "output_type": "stream",
     "text": [
      "epoch 232\tloss:223.4523\t\n",
      "233:140\t221.6338\r"
     ]
    },
    {
     "name": "stderr",
     "output_type": "stream",
     "text": [
      "total progress:  58%|█████▊    | 233/400 [3:16:24<2:16:20, 48.99s/it]"
     ]
    },
    {
     "name": "stdout",
     "output_type": "stream",
     "text": [
      "epoch 233\tloss:223.4734\t\n",
      "234:140\t220.6804\r"
     ]
    },
    {
     "name": "stderr",
     "output_type": "stream",
     "text": [
      "total progress:  58%|█████▊    | 234/400 [3:17:12<2:15:20, 48.92s/it]"
     ]
    },
    {
     "name": "stdout",
     "output_type": "stream",
     "text": [
      "epoch 234\tloss:223.4354\t\n",
      "235:140\t225.3401\r"
     ]
    },
    {
     "name": "stderr",
     "output_type": "stream",
     "text": [
      "total progress:  59%|█████▉    | 235/400 [3:18:01<2:14:27, 48.89s/it]"
     ]
    },
    {
     "name": "stdout",
     "output_type": "stream",
     "text": [
      "epoch 235\tloss:223.4737\t\n",
      "236:140\t224.6075\r"
     ]
    },
    {
     "name": "stderr",
     "output_type": "stream",
     "text": [
      "total progress:  59%|█████▉    | 236/400 [3:18:50<2:13:31, 48.85s/it]"
     ]
    },
    {
     "name": "stdout",
     "output_type": "stream",
     "text": [
      "epoch 236\tloss:223.3469\t\n",
      "237:140\t224.0598\r"
     ]
    },
    {
     "name": "stderr",
     "output_type": "stream",
     "text": [
      "total progress:  59%|█████▉    | 237/400 [3:19:38<2:12:28, 48.76s/it]"
     ]
    },
    {
     "name": "stdout",
     "output_type": "stream",
     "text": [
      "epoch 237\tloss:223.4543\t\n",
      "238:140\t222.5886\r"
     ]
    },
    {
     "name": "stderr",
     "output_type": "stream",
     "text": [
      "total progress:  60%|█████▉    | 238/400 [3:20:27<2:11:39, 48.76s/it]"
     ]
    },
    {
     "name": "stdout",
     "output_type": "stream",
     "text": [
      "epoch 238\tloss:223.4494\t\n",
      "239:140\t228.2759\r"
     ]
    },
    {
     "name": "stderr",
     "output_type": "stream",
     "text": [
      "total progress:  60%|█████▉    | 239/400 [3:21:16<2:10:56, 48.80s/it]"
     ]
    },
    {
     "name": "stdout",
     "output_type": "stream",
     "text": [
      "epoch 239\tloss:223.4068\t\n",
      "240:140\t205.2748\r"
     ]
    },
    {
     "name": "stderr",
     "output_type": "stream",
     "text": [
      "total progress:  60%|██████    | 240/400 [3:22:05<2:10:02, 48.77s/it]"
     ]
    },
    {
     "name": "stdout",
     "output_type": "stream",
     "text": [
      "epoch 240\tloss:223.4428\t\n",
      "241:140\t209.3037\r"
     ]
    },
    {
     "name": "stderr",
     "output_type": "stream",
     "text": [
      "total progress:  60%|██████    | 241/400 [3:22:54<2:09:37, 48.92s/it]"
     ]
    },
    {
     "name": "stdout",
     "output_type": "stream",
     "text": [
      "epoch 241\tloss:223.4716\t\n",
      "242:140\t232.5510\r"
     ]
    },
    {
     "name": "stderr",
     "output_type": "stream",
     "text": [
      "total progress:  60%|██████    | 242/400 [3:23:44<2:09:12, 49.07s/it]"
     ]
    },
    {
     "name": "stdout",
     "output_type": "stream",
     "text": [
      "epoch 242\tloss:223.4188\t\n",
      "243:140\t225.5464\r"
     ]
    },
    {
     "name": "stderr",
     "output_type": "stream",
     "text": [
      "total progress:  61%|██████    | 243/400 [3:24:32<2:08:15, 49.01s/it]"
     ]
    },
    {
     "name": "stdout",
     "output_type": "stream",
     "text": [
      "epoch 243\tloss:223.4784\t\n",
      "244:140\t234.1944\r"
     ]
    },
    {
     "name": "stderr",
     "output_type": "stream",
     "text": [
      "total progress:  61%|██████    | 244/400 [3:25:22<2:07:36, 49.08s/it]"
     ]
    },
    {
     "name": "stdout",
     "output_type": "stream",
     "text": [
      "epoch 244\tloss:223.4683\t\n",
      "245:140\t222.8882\r"
     ]
    },
    {
     "name": "stderr",
     "output_type": "stream",
     "text": [
      "total progress:  61%|██████▏   | 245/400 [3:26:11<2:06:40, 49.03s/it]"
     ]
    },
    {
     "name": "stdout",
     "output_type": "stream",
     "text": [
      "epoch 245\tloss:223.4909\t\n",
      "246:140\t215.4285\r"
     ]
    },
    {
     "name": "stderr",
     "output_type": "stream",
     "text": [
      "total progress:  62%|██████▏   | 246/400 [3:27:00<2:06:00, 49.10s/it]"
     ]
    },
    {
     "name": "stdout",
     "output_type": "stream",
     "text": [
      "epoch 246\tloss:223.5046\t\n",
      "247:140\t227.2456\r"
     ]
    },
    {
     "name": "stderr",
     "output_type": "stream",
     "text": [
      "total progress:  62%|██████▏   | 247/400 [3:27:49<2:05:26, 49.20s/it]"
     ]
    },
    {
     "name": "stdout",
     "output_type": "stream",
     "text": [
      "epoch 247\tloss:223.4613\t\n",
      "248:140\t225.1454\r"
     ]
    },
    {
     "name": "stderr",
     "output_type": "stream",
     "text": [
      "total progress:  62%|██████▏   | 248/400 [3:28:38<2:04:32, 49.16s/it]"
     ]
    },
    {
     "name": "stdout",
     "output_type": "stream",
     "text": [
      "epoch 248\tloss:223.4535\t\n",
      "249:140\t220.3655\r"
     ]
    },
    {
     "name": "stderr",
     "output_type": "stream",
     "text": [
      "total progress:  62%|██████▏   | 249/400 [3:29:28<2:03:52, 49.22s/it]"
     ]
    },
    {
     "name": "stdout",
     "output_type": "stream",
     "text": [
      "epoch 249\tloss:223.4548\t\n",
      "250:140\t221.2926\r"
     ]
    },
    {
     "name": "stderr",
     "output_type": "stream",
     "text": [
      "total progress:  62%|██████▎   | 250/400 [3:30:17<2:03:19, 49.33s/it]"
     ]
    },
    {
     "name": "stdout",
     "output_type": "stream",
     "text": [
      "epoch 250\tloss:223.4428\t\n",
      "251:140\t224.2143\r"
     ]
    },
    {
     "name": "stderr",
     "output_type": "stream",
     "text": [
      "total progress:  63%|██████▎   | 251/400 [3:31:07<2:02:28, 49.32s/it]"
     ]
    },
    {
     "name": "stdout",
     "output_type": "stream",
     "text": [
      "epoch 251\tloss:223.4691\t\n",
      "252:140\t228.3136\r"
     ]
    },
    {
     "name": "stderr",
     "output_type": "stream",
     "text": [
      "total progress:  63%|██████▎   | 252/400 [3:31:56<2:01:42, 49.34s/it]"
     ]
    },
    {
     "name": "stdout",
     "output_type": "stream",
     "text": [
      "epoch 252\tloss:223.4187\t\n",
      "253:140\t210.6266\r"
     ]
    },
    {
     "name": "stderr",
     "output_type": "stream",
     "text": [
      "total progress:  63%|██████▎   | 253/400 [3:32:45<2:00:58, 49.37s/it]"
     ]
    },
    {
     "name": "stdout",
     "output_type": "stream",
     "text": [
      "epoch 253\tloss:223.5008\t\n",
      "254:140\t219.2270\r"
     ]
    },
    {
     "name": "stderr",
     "output_type": "stream",
     "text": [
      "total progress:  64%|██████▎   | 254/400 [3:33:35<2:00:03, 49.34s/it]"
     ]
    },
    {
     "name": "stdout",
     "output_type": "stream",
     "text": [
      "epoch 254\tloss:223.4665\t\n",
      "255:140\t217.2573\r"
     ]
    },
    {
     "name": "stderr",
     "output_type": "stream",
     "text": [
      "total progress:  64%|██████▍   | 255/400 [3:34:24<1:59:15, 49.35s/it]"
     ]
    },
    {
     "name": "stdout",
     "output_type": "stream",
     "text": [
      "epoch 255\tloss:223.4523\t\n",
      "256:140\t222.0418\r"
     ]
    },
    {
     "name": "stderr",
     "output_type": "stream",
     "text": [
      "total progress:  64%|██████▍   | 256/400 [3:35:14<1:58:33, 49.40s/it]"
     ]
    },
    {
     "name": "stdout",
     "output_type": "stream",
     "text": [
      "epoch 256\tloss:223.4883\t\n",
      "257:140\t233.6752\r"
     ]
    },
    {
     "name": "stderr",
     "output_type": "stream",
     "text": [
      "total progress:  64%|██████▍   | 257/400 [3:36:03<1:57:41, 49.38s/it]"
     ]
    },
    {
     "name": "stdout",
     "output_type": "stream",
     "text": [
      "epoch 257\tloss:223.5180\t\n",
      "258:140\t238.0085\r"
     ]
    },
    {
     "name": "stderr",
     "output_type": "stream",
     "text": [
      "total progress:  64%|██████▍   | 258/400 [3:36:53<1:57:04, 49.47s/it]"
     ]
    },
    {
     "name": "stdout",
     "output_type": "stream",
     "text": [
      "epoch 258\tloss:223.4924\t\n",
      "259:140\t223.4056\r"
     ]
    },
    {
     "name": "stderr",
     "output_type": "stream",
     "text": [
      "total progress:  65%|██████▍   | 259/400 [3:37:42<1:56:17, 49.48s/it]"
     ]
    },
    {
     "name": "stdout",
     "output_type": "stream",
     "text": [
      "epoch 259\tloss:223.4928\t\n",
      "260:140\t228.0331\r"
     ]
    },
    {
     "name": "stderr",
     "output_type": "stream",
     "text": [
      "total progress:  65%|██████▌   | 260/400 [3:38:32<1:55:34, 49.53s/it]"
     ]
    },
    {
     "name": "stdout",
     "output_type": "stream",
     "text": [
      "epoch 260\tloss:223.4177\t\n",
      "261:140\t232.9335\r"
     ]
    },
    {
     "name": "stderr",
     "output_type": "stream",
     "text": [
      "total progress:  65%|██████▌   | 261/400 [3:39:21<1:54:43, 49.52s/it]"
     ]
    },
    {
     "name": "stdout",
     "output_type": "stream",
     "text": [
      "epoch 261\tloss:223.4345\t\n",
      "262:140\t235.1662\r"
     ]
    },
    {
     "name": "stderr",
     "output_type": "stream",
     "text": [
      "total progress:  66%|██████▌   | 262/400 [3:40:11<1:53:53, 49.52s/it]"
     ]
    },
    {
     "name": "stdout",
     "output_type": "stream",
     "text": [
      "epoch 262\tloss:223.4163\t\n",
      "263:140\t233.1026\r"
     ]
    },
    {
     "name": "stderr",
     "output_type": "stream",
     "text": [
      "total progress:  66%|██████▌   | 263/400 [3:41:00<1:52:56, 49.46s/it]"
     ]
    },
    {
     "name": "stdout",
     "output_type": "stream",
     "text": [
      "epoch 263\tloss:223.4901\t\n",
      "264:140\t230.7188\r"
     ]
    },
    {
     "name": "stderr",
     "output_type": "stream",
     "text": [
      "total progress:  66%|██████▌   | 264/400 [3:41:49<1:52:01, 49.42s/it]"
     ]
    },
    {
     "name": "stdout",
     "output_type": "stream",
     "text": [
      "epoch 264\tloss:223.4597\t\n",
      "265:140\t214.5499\r"
     ]
    },
    {
     "name": "stderr",
     "output_type": "stream",
     "text": [
      "total progress:  66%|██████▋   | 265/400 [3:42:39<1:51:18, 49.47s/it]"
     ]
    },
    {
     "name": "stdout",
     "output_type": "stream",
     "text": [
      "epoch 265\tloss:223.5130\t\n",
      "266:140\t229.1039\r"
     ]
    },
    {
     "name": "stderr",
     "output_type": "stream",
     "text": [
      "total progress:  66%|██████▋   | 266/400 [3:43:28<1:50:24, 49.43s/it]"
     ]
    },
    {
     "name": "stdout",
     "output_type": "stream",
     "text": [
      "epoch 266\tloss:223.4675\t\n",
      "267:140\t221.1117\r"
     ]
    },
    {
     "name": "stderr",
     "output_type": "stream",
     "text": [
      "total progress:  67%|██████▋   | 267/400 [3:44:17<1:49:23, 49.35s/it]"
     ]
    },
    {
     "name": "stdout",
     "output_type": "stream",
     "text": [
      "epoch 267\tloss:223.4337\t\n",
      "268:140\t237.2100\r"
     ]
    },
    {
     "name": "stderr",
     "output_type": "stream",
     "text": [
      "total progress:  67%|██████▋   | 268/400 [3:45:07<1:48:21, 49.26s/it]"
     ]
    },
    {
     "name": "stdout",
     "output_type": "stream",
     "text": [
      "epoch 268\tloss:223.4295\t\n",
      "269:140\t217.6481\r"
     ]
    },
    {
     "name": "stderr",
     "output_type": "stream",
     "text": [
      "total progress:  67%|██████▋   | 269/400 [3:45:56<1:47:23, 49.19s/it]"
     ]
    },
    {
     "name": "stdout",
     "output_type": "stream",
     "text": [
      "epoch 269\tloss:223.5117\t\n",
      "270:140\t210.0635\r"
     ]
    },
    {
     "name": "stderr",
     "output_type": "stream",
     "text": [
      "total progress:  68%|██████▊   | 270/400 [3:46:45<1:46:37, 49.22s/it]"
     ]
    },
    {
     "name": "stdout",
     "output_type": "stream",
     "text": [
      "epoch 270\tloss:223.4604\t\n",
      "271:140\t227.3728\r"
     ]
    },
    {
     "name": "stderr",
     "output_type": "stream",
     "text": [
      "total progress:  68%|██████▊   | 271/400 [3:47:34<1:45:43, 49.17s/it]"
     ]
    },
    {
     "name": "stdout",
     "output_type": "stream",
     "text": [
      "epoch 271\tloss:223.4374\t\n",
      "272:140\t216.0349\r"
     ]
    },
    {
     "name": "stderr",
     "output_type": "stream",
     "text": [
      "total progress:  68%|██████▊   | 272/400 [3:48:23<1:44:54, 49.18s/it]"
     ]
    },
    {
     "name": "stdout",
     "output_type": "stream",
     "text": [
      "epoch 272\tloss:223.5059\t\n",
      "273:140\t224.5131\r"
     ]
    },
    {
     "name": "stderr",
     "output_type": "stream",
     "text": [
      "total progress:  68%|██████▊   | 273/400 [3:49:12<1:43:57, 49.11s/it]"
     ]
    },
    {
     "name": "stdout",
     "output_type": "stream",
     "text": [
      "epoch 273\tloss:223.4215\t\n",
      "274:140\t225.4158\r"
     ]
    },
    {
     "name": "stderr",
     "output_type": "stream",
     "text": [
      "total progress:  68%|██████▊   | 274/400 [3:50:01<1:43:05, 49.09s/it]"
     ]
    },
    {
     "name": "stdout",
     "output_type": "stream",
     "text": [
      "epoch 274\tloss:223.4440\t\n",
      "275:140\t214.9255\r"
     ]
    },
    {
     "name": "stderr",
     "output_type": "stream",
     "text": [
      "total progress:  69%|██████▉   | 275/400 [3:50:50<1:42:14, 49.08s/it]"
     ]
    },
    {
     "name": "stdout",
     "output_type": "stream",
     "text": [
      "epoch 275\tloss:223.4897\t\n",
      "276:140\t203.0177\r"
     ]
    },
    {
     "name": "stderr",
     "output_type": "stream",
     "text": [
      "total progress:  69%|██████▉   | 276/400 [3:51:39<1:41:17, 49.01s/it]"
     ]
    },
    {
     "name": "stdout",
     "output_type": "stream",
     "text": [
      "epoch 276\tloss:223.4228\t\n",
      "277:140\t227.0504\r"
     ]
    },
    {
     "name": "stderr",
     "output_type": "stream",
     "text": [
      "total progress:  69%|██████▉   | 277/400 [3:52:28<1:40:34, 49.06s/it]"
     ]
    },
    {
     "name": "stdout",
     "output_type": "stream",
     "text": [
      "epoch 277\tloss:223.5266\t\n",
      "278:140\t224.9162\r"
     ]
    },
    {
     "name": "stderr",
     "output_type": "stream",
     "text": [
      "total progress:  70%|██████▉   | 278/400 [3:53:17<1:39:51, 49.11s/it]"
     ]
    },
    {
     "name": "stdout",
     "output_type": "stream",
     "text": [
      "epoch 278\tloss:223.4765\t\n",
      "279:140\t225.6133\r"
     ]
    },
    {
     "name": "stderr",
     "output_type": "stream",
     "text": [
      "total progress:  70%|██████▉   | 279/400 [3:54:06<1:38:54, 49.04s/it]"
     ]
    },
    {
     "name": "stdout",
     "output_type": "stream",
     "text": [
      "epoch 279\tloss:223.4608\t\n",
      "280:140\t224.8527\r"
     ]
    },
    {
     "name": "stderr",
     "output_type": "stream",
     "text": [
      "total progress:  70%|███████   | 280/400 [3:54:55<1:38:09, 49.08s/it]"
     ]
    },
    {
     "name": "stdout",
     "output_type": "stream",
     "text": [
      "epoch 280\tloss:223.3913\t\n",
      "281:140\t220.4171\r"
     ]
    },
    {
     "name": "stderr",
     "output_type": "stream",
     "text": [
      "total progress:  70%|███████   | 281/400 [3:55:44<1:37:16, 49.04s/it]"
     ]
    },
    {
     "name": "stdout",
     "output_type": "stream",
     "text": [
      "epoch 281\tloss:223.4177\t\n",
      "282:140\t223.2831\r"
     ]
    },
    {
     "name": "stderr",
     "output_type": "stream",
     "text": [
      "total progress:  70%|███████   | 282/400 [3:56:34<1:36:30, 49.07s/it]"
     ]
    },
    {
     "name": "stdout",
     "output_type": "stream",
     "text": [
      "epoch 282\tloss:223.4309\t\n",
      "283:140\t220.5221\r"
     ]
    },
    {
     "name": "stderr",
     "output_type": "stream",
     "text": [
      "total progress:  71%|███████   | 283/400 [3:57:23<1:35:40, 49.06s/it]"
     ]
    },
    {
     "name": "stdout",
     "output_type": "stream",
     "text": [
      "epoch 283\tloss:223.3611\t\n",
      "284:140\t215.2992\r"
     ]
    },
    {
     "name": "stderr",
     "output_type": "stream",
     "text": [
      "total progress:  71%|███████   | 284/400 [3:58:12<1:34:47, 49.03s/it]"
     ]
    },
    {
     "name": "stdout",
     "output_type": "stream",
     "text": [
      "epoch 284\tloss:223.4627\t\n",
      "285:140\t229.3860\r"
     ]
    },
    {
     "name": "stderr",
     "output_type": "stream",
     "text": [
      "total progress:  71%|███████▏  | 285/400 [3:59:01<1:34:05, 49.09s/it]"
     ]
    },
    {
     "name": "stdout",
     "output_type": "stream",
     "text": [
      "epoch 285\tloss:223.3921\t\n",
      "286:140\t214.4722\r"
     ]
    },
    {
     "name": "stderr",
     "output_type": "stream",
     "text": [
      "total progress:  72%|███████▏  | 286/400 [3:59:50<1:33:25, 49.17s/it]"
     ]
    },
    {
     "name": "stdout",
     "output_type": "stream",
     "text": [
      "epoch 286\tloss:223.4606\t\n",
      "287:140\t203.1746\r"
     ]
    },
    {
     "name": "stderr",
     "output_type": "stream",
     "text": [
      "total progress:  72%|███████▏  | 287/400 [4:00:39<1:32:42, 49.22s/it]"
     ]
    },
    {
     "name": "stdout",
     "output_type": "stream",
     "text": [
      "epoch 287\tloss:223.4449\t\n",
      "288:140\t212.4323\r"
     ]
    },
    {
     "name": "stderr",
     "output_type": "stream",
     "text": [
      "total progress:  72%|███████▏  | 288/400 [4:01:29<1:31:48, 49.18s/it]"
     ]
    },
    {
     "name": "stdout",
     "output_type": "stream",
     "text": [
      "epoch 288\tloss:223.4087\t\n",
      "289:140\t220.5044\r"
     ]
    },
    {
     "name": "stderr",
     "output_type": "stream",
     "text": [
      "total progress:  72%|███████▏  | 289/400 [4:02:18<1:30:57, 49.17s/it]"
     ]
    },
    {
     "name": "stdout",
     "output_type": "stream",
     "text": [
      "epoch 289\tloss:223.4748\t\n",
      "290:140\t225.5723\r"
     ]
    },
    {
     "name": "stderr",
     "output_type": "stream",
     "text": [
      "total progress:  72%|███████▎  | 290/400 [4:03:07<1:30:09, 49.17s/it]"
     ]
    },
    {
     "name": "stdout",
     "output_type": "stream",
     "text": [
      "epoch 290\tloss:223.4729\t\n",
      "291:140\t233.3707\r"
     ]
    },
    {
     "name": "stderr",
     "output_type": "stream",
     "text": [
      "total progress:  73%|███████▎  | 291/400 [4:03:56<1:29:19, 49.17s/it]"
     ]
    },
    {
     "name": "stdout",
     "output_type": "stream",
     "text": [
      "epoch 291\tloss:223.4496\t\n",
      "292:140\t222.6965\r"
     ]
    },
    {
     "name": "stderr",
     "output_type": "stream",
     "text": [
      "total progress:  73%|███████▎  | 292/400 [4:04:45<1:28:24, 49.12s/it]"
     ]
    },
    {
     "name": "stdout",
     "output_type": "stream",
     "text": [
      "epoch 292\tloss:223.4716\t\n",
      "293:140\t237.2270\r"
     ]
    },
    {
     "name": "stderr",
     "output_type": "stream",
     "text": [
      "total progress:  73%|███████▎  | 293/400 [4:05:34<1:27:33, 49.10s/it]"
     ]
    },
    {
     "name": "stdout",
     "output_type": "stream",
     "text": [
      "epoch 293\tloss:223.4555\t\n",
      "294:140\t217.1672\r"
     ]
    },
    {
     "name": "stderr",
     "output_type": "stream",
     "text": [
      "total progress:  74%|███████▎  | 294/400 [4:06:23<1:26:43, 49.09s/it]"
     ]
    },
    {
     "name": "stdout",
     "output_type": "stream",
     "text": [
      "epoch 294\tloss:223.4233\t\n",
      "295:140\t222.8997\r"
     ]
    },
    {
     "name": "stderr",
     "output_type": "stream",
     "text": [
      "total progress:  74%|███████▍  | 295/400 [4:07:13<1:26:05, 49.20s/it]"
     ]
    },
    {
     "name": "stdout",
     "output_type": "stream",
     "text": [
      "epoch 295\tloss:223.4404\t\n",
      "296:140\t222.5591\r"
     ]
    },
    {
     "name": "stderr",
     "output_type": "stream",
     "text": [
      "total progress:  74%|███████▍  | 296/400 [4:08:02<1:25:23, 49.27s/it]"
     ]
    },
    {
     "name": "stdout",
     "output_type": "stream",
     "text": [
      "epoch 296\tloss:223.4969\t\n",
      "297:140\t220.7132\r"
     ]
    },
    {
     "name": "stderr",
     "output_type": "stream",
     "text": [
      "total progress:  74%|███████▍  | 297/400 [4:08:51<1:24:38, 49.31s/it]"
     ]
    },
    {
     "name": "stdout",
     "output_type": "stream",
     "text": [
      "epoch 297\tloss:223.4664\t\n",
      "298:140\t238.7037\r"
     ]
    },
    {
     "name": "stderr",
     "output_type": "stream",
     "text": [
      "total progress:  74%|███████▍  | 298/400 [4:09:41<1:23:44, 49.26s/it]"
     ]
    },
    {
     "name": "stdout",
     "output_type": "stream",
     "text": [
      "epoch 298\tloss:223.4871\t\n",
      "299:140\t215.1327\r"
     ]
    },
    {
     "name": "stderr",
     "output_type": "stream",
     "text": [
      "total progress:  75%|███████▍  | 299/400 [4:10:30<1:22:57, 49.28s/it]"
     ]
    },
    {
     "name": "stdout",
     "output_type": "stream",
     "text": [
      "epoch 299\tloss:223.4630\t\n",
      "epoch 300\tloss:223.3913\t\n"
     ]
    },
    {
     "name": "stderr",
     "output_type": "stream",
     "text": [
      "total progress:  75%|███████▌  | 300/400 [4:11:20<1:22:36, 49.57s/it]"
     ]
    },
    {
     "name": "stdout",
     "output_type": "stream",
     "text": [
      "301:140\t218.2946\r"
     ]
    },
    {
     "name": "stderr",
     "output_type": "stream",
     "text": [
      "total progress:  75%|███████▌  | 301/400 [4:12:08<1:20:43, 48.93s/it]"
     ]
    },
    {
     "name": "stdout",
     "output_type": "stream",
     "text": [
      "epoch 301\tloss:223.4424\t\n",
      "302:140\t218.8415\r"
     ]
    },
    {
     "name": "stderr",
     "output_type": "stream",
     "text": [
      "total progress:  76%|███████▌  | 302/400 [4:12:55<1:19:17, 48.55s/it]"
     ]
    },
    {
     "name": "stdout",
     "output_type": "stream",
     "text": [
      "epoch 302\tloss:223.4307\t\n",
      "303:140\t215.3470\r"
     ]
    },
    {
     "name": "stderr",
     "output_type": "stream",
     "text": [
      "total progress:  76%|███████▌  | 303/400 [4:13:43<1:18:15, 48.41s/it]"
     ]
    },
    {
     "name": "stdout",
     "output_type": "stream",
     "text": [
      "epoch 303\tloss:223.4806\t\n",
      "304:140\t232.6985\r"
     ]
    },
    {
     "name": "stderr",
     "output_type": "stream",
     "text": [
      "total progress:  76%|███████▌  | 304/400 [4:14:32<1:17:28, 48.42s/it]"
     ]
    },
    {
     "name": "stdout",
     "output_type": "stream",
     "text": [
      "epoch 304\tloss:223.4674\t\n",
      "305:140\t212.1739\r"
     ]
    },
    {
     "name": "stderr",
     "output_type": "stream",
     "text": [
      "total progress:  76%|███████▋  | 305/400 [4:15:20<1:16:40, 48.43s/it]"
     ]
    },
    {
     "name": "stdout",
     "output_type": "stream",
     "text": [
      "epoch 305\tloss:223.4774\t\n",
      "306:140\t215.7788\r"
     ]
    },
    {
     "name": "stderr",
     "output_type": "stream",
     "text": [
      "total progress:  76%|███████▋  | 306/400 [4:16:09<1:15:53, 48.44s/it]"
     ]
    },
    {
     "name": "stdout",
     "output_type": "stream",
     "text": [
      "epoch 306\tloss:223.5420\t\n",
      "307:140\t211.5015\r"
     ]
    },
    {
     "name": "stderr",
     "output_type": "stream",
     "text": [
      "total progress:  77%|███████▋  | 307/400 [4:16:57<1:15:10, 48.50s/it]"
     ]
    },
    {
     "name": "stdout",
     "output_type": "stream",
     "text": [
      "epoch 307\tloss:223.5006\t\n",
      "308:140\t229.4961\r"
     ]
    },
    {
     "name": "stderr",
     "output_type": "stream",
     "text": [
      "total progress:  77%|███████▋  | 308/400 [4:17:46<1:14:21, 48.50s/it]"
     ]
    },
    {
     "name": "stdout",
     "output_type": "stream",
     "text": [
      "epoch 308\tloss:223.4380\t\n",
      "309:140\t222.6513\r"
     ]
    },
    {
     "name": "stderr",
     "output_type": "stream",
     "text": [
      "total progress:  77%|███████▋  | 309/400 [4:18:34<1:13:22, 48.38s/it]"
     ]
    },
    {
     "name": "stdout",
     "output_type": "stream",
     "text": [
      "epoch 309\tloss:223.4346\t\n",
      "310:140\t224.3397\r"
     ]
    },
    {
     "name": "stderr",
     "output_type": "stream",
     "text": [
      "total progress:  78%|███████▊  | 310/400 [4:19:22<1:12:37, 48.42s/it]"
     ]
    },
    {
     "name": "stdout",
     "output_type": "stream",
     "text": [
      "epoch 310\tloss:223.3936\t\n",
      "311:140\t230.7241\r"
     ]
    },
    {
     "name": "stderr",
     "output_type": "stream",
     "text": [
      "total progress:  78%|███████▊  | 311/400 [4:20:11<1:11:45, 48.37s/it]"
     ]
    },
    {
     "name": "stdout",
     "output_type": "stream",
     "text": [
      "epoch 311\tloss:223.4645\t\n",
      "312:140\t234.9235\r"
     ]
    },
    {
     "name": "stderr",
     "output_type": "stream",
     "text": [
      "total progress:  78%|███████▊  | 312/400 [4:20:59<1:10:59, 48.40s/it]"
     ]
    },
    {
     "name": "stdout",
     "output_type": "stream",
     "text": [
      "epoch 312\tloss:223.4893\t\n",
      "313:140\t222.4424\r"
     ]
    },
    {
     "name": "stderr",
     "output_type": "stream",
     "text": [
      "total progress:  78%|███████▊  | 313/400 [4:21:48<1:10:26, 48.58s/it]"
     ]
    },
    {
     "name": "stdout",
     "output_type": "stream",
     "text": [
      "epoch 313\tloss:223.4301\t\n",
      "314:140\t238.8791\r"
     ]
    },
    {
     "name": "stderr",
     "output_type": "stream",
     "text": [
      "total progress:  78%|███████▊  | 314/400 [4:22:37<1:09:45, 48.67s/it]"
     ]
    },
    {
     "name": "stdout",
     "output_type": "stream",
     "text": [
      "epoch 314\tloss:223.3783\t\n",
      "315:140\t221.2697\r"
     ]
    },
    {
     "name": "stderr",
     "output_type": "stream",
     "text": [
      "total progress:  79%|███████▉  | 315/400 [4:23:26<1:08:59, 48.70s/it]"
     ]
    },
    {
     "name": "stdout",
     "output_type": "stream",
     "text": [
      "epoch 315\tloss:223.4416\t\n",
      "316:140\t222.8928\r"
     ]
    },
    {
     "name": "stderr",
     "output_type": "stream",
     "text": [
      "total progress:  79%|███████▉  | 316/400 [4:24:15<1:08:17, 48.78s/it]"
     ]
    },
    {
     "name": "stdout",
     "output_type": "stream",
     "text": [
      "epoch 316\tloss:223.4492\t\n",
      "317:140\t219.5301\r"
     ]
    },
    {
     "name": "stderr",
     "output_type": "stream",
     "text": [
      "total progress:  79%|███████▉  | 317/400 [4:25:04<1:07:28, 48.78s/it]"
     ]
    },
    {
     "name": "stdout",
     "output_type": "stream",
     "text": [
      "epoch 317\tloss:223.3793\t\n",
      "318:140\t223.9708\r"
     ]
    },
    {
     "name": "stderr",
     "output_type": "stream",
     "text": [
      "total progress:  80%|███████▉  | 318/400 [4:25:52<1:06:34, 48.72s/it]"
     ]
    },
    {
     "name": "stdout",
     "output_type": "stream",
     "text": [
      "epoch 318\tloss:223.4969\t\n",
      "319:140\t220.7918\r"
     ]
    },
    {
     "name": "stderr",
     "output_type": "stream",
     "text": [
      "total progress:  80%|███████▉  | 319/400 [4:26:41<1:05:45, 48.71s/it]"
     ]
    },
    {
     "name": "stdout",
     "output_type": "stream",
     "text": [
      "epoch 319\tloss:223.4675\t\n",
      "320:140\t234.5128\r"
     ]
    },
    {
     "name": "stderr",
     "output_type": "stream",
     "text": [
      "total progress:  80%|████████  | 320/400 [4:27:30<1:05:00, 48.75s/it]"
     ]
    },
    {
     "name": "stdout",
     "output_type": "stream",
     "text": [
      "epoch 320\tloss:223.4344\t\n",
      "321:140\t224.2454\r"
     ]
    },
    {
     "name": "stderr",
     "output_type": "stream",
     "text": [
      "total progress:  80%|████████  | 321/400 [4:28:18<1:04:10, 48.74s/it]"
     ]
    },
    {
     "name": "stdout",
     "output_type": "stream",
     "text": [
      "epoch 321\tloss:223.4680\t\n",
      "322:140\t220.3349\r"
     ]
    },
    {
     "name": "stderr",
     "output_type": "stream",
     "text": [
      "total progress:  80%|████████  | 322/400 [4:29:08<1:03:30, 48.86s/it]"
     ]
    },
    {
     "name": "stdout",
     "output_type": "stream",
     "text": [
      "epoch 322\tloss:223.4921\t\n",
      "323:140\t220.3107\r"
     ]
    },
    {
     "name": "stderr",
     "output_type": "stream",
     "text": [
      "total progress:  81%|████████  | 323/400 [4:29:57<1:02:48, 48.95s/it]"
     ]
    },
    {
     "name": "stdout",
     "output_type": "stream",
     "text": [
      "epoch 323\tloss:223.4635\t\n",
      "324:140\t219.5102\r"
     ]
    },
    {
     "name": "stderr",
     "output_type": "stream",
     "text": [
      "total progress:  81%|████████  | 324/400 [4:30:46<1:01:59, 48.94s/it]"
     ]
    },
    {
     "name": "stdout",
     "output_type": "stream",
     "text": [
      "epoch 324\tloss:223.4122\t\n",
      "325:140\t238.6285\r"
     ]
    },
    {
     "name": "stderr",
     "output_type": "stream",
     "text": [
      "total progress:  81%|████████▏ | 325/400 [4:31:35<1:01:13, 48.98s/it]"
     ]
    },
    {
     "name": "stdout",
     "output_type": "stream",
     "text": [
      "epoch 325\tloss:223.3815\t\n",
      "326:140\t225.3076\r"
     ]
    },
    {
     "name": "stderr",
     "output_type": "stream",
     "text": [
      "total progress:  82%|████████▏ | 326/400 [4:32:24<1:00:27, 49.02s/it]"
     ]
    },
    {
     "name": "stdout",
     "output_type": "stream",
     "text": [
      "epoch 326\tloss:223.4045\t\n",
      "327:140\t230.5511\r"
     ]
    },
    {
     "name": "stderr",
     "output_type": "stream",
     "text": [
      "total progress:  82%|████████▏ | 327/400 [4:33:13<59:39, 49.03s/it]  "
     ]
    },
    {
     "name": "stdout",
     "output_type": "stream",
     "text": [
      "epoch 327\tloss:223.3540\t\n",
      "328:140\t236.0125\r"
     ]
    },
    {
     "name": "stderr",
     "output_type": "stream",
     "text": [
      "total progress:  82%|████████▏ | 328/400 [4:34:02<58:46, 48.97s/it]"
     ]
    },
    {
     "name": "stdout",
     "output_type": "stream",
     "text": [
      "epoch 328\tloss:223.3537\t\n",
      "329:140\t218.8236\r"
     ]
    },
    {
     "name": "stderr",
     "output_type": "stream",
     "text": [
      "total progress:  82%|████████▏ | 329/400 [4:34:50<57:50, 48.89s/it]"
     ]
    },
    {
     "name": "stdout",
     "output_type": "stream",
     "text": [
      "epoch 329\tloss:223.4906\t\n",
      "330:140\t218.6666\r"
     ]
    },
    {
     "name": "stderr",
     "output_type": "stream",
     "text": [
      "total progress:  82%|████████▎ | 330/400 [4:35:39<57:02, 48.90s/it]"
     ]
    },
    {
     "name": "stdout",
     "output_type": "stream",
     "text": [
      "epoch 330\tloss:223.4774\t\n",
      "331:140\t226.5810\r"
     ]
    },
    {
     "name": "stderr",
     "output_type": "stream",
     "text": [
      "total progress:  83%|████████▎ | 331/400 [4:36:28<56:15, 48.93s/it]"
     ]
    },
    {
     "name": "stdout",
     "output_type": "stream",
     "text": [
      "epoch 331\tloss:223.4374\t\n",
      "332:140\t233.6601\r"
     ]
    },
    {
     "name": "stderr",
     "output_type": "stream",
     "text": [
      "total progress:  83%|████████▎ | 332/400 [4:37:17<55:28, 48.96s/it]"
     ]
    },
    {
     "name": "stdout",
     "output_type": "stream",
     "text": [
      "epoch 332\tloss:223.5159\t\n",
      "333:140\t221.3886\r"
     ]
    },
    {
     "name": "stderr",
     "output_type": "stream",
     "text": [
      "total progress:  83%|████████▎ | 333/400 [4:38:06<54:42, 49.00s/it]"
     ]
    },
    {
     "name": "stdout",
     "output_type": "stream",
     "text": [
      "epoch 333\tloss:223.4405\t\n",
      "334:140\t221.3884\r"
     ]
    },
    {
     "name": "stderr",
     "output_type": "stream",
     "text": [
      "total progress:  84%|████████▎ | 334/400 [4:38:55<53:53, 49.00s/it]"
     ]
    },
    {
     "name": "stdout",
     "output_type": "stream",
     "text": [
      "epoch 334\tloss:223.4231\t\n",
      "335:140\t232.4277\r"
     ]
    },
    {
     "name": "stderr",
     "output_type": "stream",
     "text": [
      "total progress:  84%|████████▍ | 335/400 [4:39:44<53:06, 49.03s/it]"
     ]
    },
    {
     "name": "stdout",
     "output_type": "stream",
     "text": [
      "epoch 335\tloss:223.4463\t\n",
      "336:140\t228.0771\r"
     ]
    },
    {
     "name": "stderr",
     "output_type": "stream",
     "text": [
      "total progress:  84%|████████▍ | 336/400 [4:40:34<52:18, 49.04s/it]"
     ]
    },
    {
     "name": "stdout",
     "output_type": "stream",
     "text": [
      "epoch 336\tloss:223.4596\t\n",
      "337:140\t224.2716\r"
     ]
    },
    {
     "name": "stderr",
     "output_type": "stream",
     "text": [
      "total progress:  84%|████████▍ | 337/400 [4:41:22<51:24, 48.95s/it]"
     ]
    },
    {
     "name": "stdout",
     "output_type": "stream",
     "text": [
      "epoch 337\tloss:223.4216\t\n",
      "338:140\t214.0620\r"
     ]
    },
    {
     "name": "stderr",
     "output_type": "stream",
     "text": [
      "total progress:  84%|████████▍ | 338/400 [4:42:12<50:49, 49.18s/it]"
     ]
    },
    {
     "name": "stdout",
     "output_type": "stream",
     "text": [
      "epoch 338\tloss:223.4696\t\n",
      "339:140\t223.3988\r"
     ]
    },
    {
     "name": "stderr",
     "output_type": "stream",
     "text": [
      "total progress:  85%|████████▍ | 339/400 [4:43:01<50:03, 49.24s/it]"
     ]
    },
    {
     "name": "stdout",
     "output_type": "stream",
     "text": [
      "epoch 339\tloss:223.4119\t\n",
      "340:140\t223.5429\r"
     ]
    },
    {
     "name": "stderr",
     "output_type": "stream",
     "text": [
      "total progress:  85%|████████▌ | 340/400 [4:43:51<49:13, 49.23s/it]"
     ]
    },
    {
     "name": "stdout",
     "output_type": "stream",
     "text": [
      "epoch 340\tloss:223.4272\t\n",
      "341:140\t222.4065\r"
     ]
    },
    {
     "name": "stderr",
     "output_type": "stream",
     "text": [
      "total progress:  85%|████████▌ | 341/400 [4:44:40<48:23, 49.22s/it]"
     ]
    },
    {
     "name": "stdout",
     "output_type": "stream",
     "text": [
      "epoch 341\tloss:223.4010\t\n",
      "342:140\t225.7303\r"
     ]
    },
    {
     "name": "stderr",
     "output_type": "stream",
     "text": [
      "total progress:  86%|████████▌ | 342/400 [4:45:29<47:35, 49.23s/it]"
     ]
    },
    {
     "name": "stdout",
     "output_type": "stream",
     "text": [
      "epoch 342\tloss:223.5129\t\n",
      "343:140\t224.2437\r"
     ]
    },
    {
     "name": "stderr",
     "output_type": "stream",
     "text": [
      "total progress:  86%|████████▌ | 343/400 [4:46:18<46:46, 49.23s/it]"
     ]
    },
    {
     "name": "stdout",
     "output_type": "stream",
     "text": [
      "epoch 343\tloss:223.4592\t\n",
      "344:140\t219.8291\r"
     ]
    },
    {
     "name": "stderr",
     "output_type": "stream",
     "text": [
      "total progress:  86%|████████▌ | 344/400 [4:47:07<45:52, 49.15s/it]"
     ]
    },
    {
     "name": "stdout",
     "output_type": "stream",
     "text": [
      "epoch 344\tloss:223.4218\t\n",
      "345:140\t223.3837\r"
     ]
    },
    {
     "name": "stderr",
     "output_type": "stream",
     "text": [
      "total progress:  86%|████████▋ | 345/400 [4:47:56<45:03, 49.16s/it]"
     ]
    },
    {
     "name": "stdout",
     "output_type": "stream",
     "text": [
      "epoch 345\tloss:223.4160\t\n",
      "346:140\t231.1406\r"
     ]
    },
    {
     "name": "stderr",
     "output_type": "stream",
     "text": [
      "total progress:  86%|████████▋ | 346/400 [4:48:46<44:14, 49.15s/it]"
     ]
    },
    {
     "name": "stdout",
     "output_type": "stream",
     "text": [
      "epoch 346\tloss:223.4340\t\n",
      "347:140\t228.7828\r"
     ]
    },
    {
     "name": "stderr",
     "output_type": "stream",
     "text": [
      "total progress:  87%|████████▋ | 347/400 [4:49:35<43:23, 49.13s/it]"
     ]
    },
    {
     "name": "stdout",
     "output_type": "stream",
     "text": [
      "epoch 347\tloss:223.4621\t\n",
      "348:140\t217.5313\r"
     ]
    },
    {
     "name": "stderr",
     "output_type": "stream",
     "text": [
      "total progress:  87%|████████▋ | 348/400 [4:50:24<42:31, 49.06s/it]"
     ]
    },
    {
     "name": "stdout",
     "output_type": "stream",
     "text": [
      "epoch 348\tloss:223.4137\t\n",
      "349:140\t218.9402\r"
     ]
    },
    {
     "name": "stderr",
     "output_type": "stream",
     "text": [
      "total progress:  87%|████████▋ | 349/400 [4:51:13<41:45, 49.12s/it]"
     ]
    },
    {
     "name": "stdout",
     "output_type": "stream",
     "text": [
      "epoch 349\tloss:223.4901\t\n",
      "350:140\t225.4569\r"
     ]
    },
    {
     "name": "stderr",
     "output_type": "stream",
     "text": [
      "total progress:  88%|████████▊ | 350/400 [4:52:02<40:58, 49.16s/it]"
     ]
    },
    {
     "name": "stdout",
     "output_type": "stream",
     "text": [
      "epoch 350\tloss:223.4714\t\n",
      "351:140\t232.7151\r"
     ]
    },
    {
     "name": "stderr",
     "output_type": "stream",
     "text": [
      "total progress:  88%|████████▊ | 351/400 [4:52:51<40:10, 49.19s/it]"
     ]
    },
    {
     "name": "stdout",
     "output_type": "stream",
     "text": [
      "epoch 351\tloss:223.4032\t\n",
      "352:140\t231.3232\r"
     ]
    },
    {
     "name": "stderr",
     "output_type": "stream",
     "text": [
      "total progress:  88%|████████▊ | 352/400 [4:53:41<39:21, 49.20s/it]"
     ]
    },
    {
     "name": "stdout",
     "output_type": "stream",
     "text": [
      "epoch 352\tloss:223.4563\t\n",
      "353:140\t213.6482\r"
     ]
    },
    {
     "name": "stderr",
     "output_type": "stream",
     "text": [
      "total progress:  88%|████████▊ | 353/400 [4:54:30<38:33, 49.23s/it]"
     ]
    },
    {
     "name": "stdout",
     "output_type": "stream",
     "text": [
      "epoch 353\tloss:223.4734\t\n",
      "354:140\t243.6316\r"
     ]
    },
    {
     "name": "stderr",
     "output_type": "stream",
     "text": [
      "total progress:  88%|████████▊ | 354/400 [4:55:19<37:45, 49.25s/it]"
     ]
    },
    {
     "name": "stdout",
     "output_type": "stream",
     "text": [
      "epoch 354\tloss:223.4043\t\n",
      "355:140\t229.4619\r"
     ]
    },
    {
     "name": "stderr",
     "output_type": "stream",
     "text": [
      "total progress:  89%|████████▉ | 355/400 [4:56:08<36:52, 49.17s/it]"
     ]
    },
    {
     "name": "stdout",
     "output_type": "stream",
     "text": [
      "epoch 355\tloss:223.3992\t\n",
      "356:140\t236.0480\r"
     ]
    },
    {
     "name": "stderr",
     "output_type": "stream",
     "text": [
      "total progress:  89%|████████▉ | 356/400 [4:56:57<36:01, 49.14s/it]"
     ]
    },
    {
     "name": "stdout",
     "output_type": "stream",
     "text": [
      "epoch 356\tloss:223.4034\t\n",
      "357:140\t212.7377\r"
     ]
    },
    {
     "name": "stderr",
     "output_type": "stream",
     "text": [
      "total progress:  89%|████████▉ | 357/400 [4:57:46<35:12, 49.13s/it]"
     ]
    },
    {
     "name": "stdout",
     "output_type": "stream",
     "text": [
      "epoch 357\tloss:223.4242\t\n",
      "358:140\t224.8102\r"
     ]
    },
    {
     "name": "stderr",
     "output_type": "stream",
     "text": [
      "total progress:  90%|████████▉ | 358/400 [4:58:36<34:25, 49.19s/it]"
     ]
    },
    {
     "name": "stdout",
     "output_type": "stream",
     "text": [
      "epoch 358\tloss:223.4242\t\n",
      "359:140\t215.7419\r"
     ]
    },
    {
     "name": "stderr",
     "output_type": "stream",
     "text": [
      "total progress:  90%|████████▉ | 359/400 [4:59:25<33:39, 49.25s/it]"
     ]
    },
    {
     "name": "stdout",
     "output_type": "stream",
     "text": [
      "epoch 359\tloss:223.3979\t\n",
      "360:140\t220.5654\r"
     ]
    },
    {
     "name": "stderr",
     "output_type": "stream",
     "text": [
      "total progress:  90%|█████████ | 360/400 [5:00:14<32:50, 49.27s/it]"
     ]
    },
    {
     "name": "stdout",
     "output_type": "stream",
     "text": [
      "epoch 360\tloss:223.4895\t\n",
      "361:140\t242.4027\r"
     ]
    },
    {
     "name": "stderr",
     "output_type": "stream",
     "text": [
      "total progress:  90%|█████████ | 361/400 [5:01:04<32:02, 49.29s/it]"
     ]
    },
    {
     "name": "stdout",
     "output_type": "stream",
     "text": [
      "epoch 361\tloss:223.4644\t\n",
      "362:140\t222.0597\r"
     ]
    },
    {
     "name": "stderr",
     "output_type": "stream",
     "text": [
      "total progress:  90%|█████████ | 362/400 [5:01:53<31:12, 49.29s/it]"
     ]
    },
    {
     "name": "stdout",
     "output_type": "stream",
     "text": [
      "epoch 362\tloss:223.5182\t\n",
      "363:140\t221.9499\r"
     ]
    },
    {
     "name": "stderr",
     "output_type": "stream",
     "text": [
      "total progress:  91%|█████████ | 363/400 [5:02:42<30:22, 49.26s/it]"
     ]
    },
    {
     "name": "stdout",
     "output_type": "stream",
     "text": [
      "epoch 363\tloss:223.5023\t\n",
      "364:140\t225.9538\r"
     ]
    },
    {
     "name": "stderr",
     "output_type": "stream",
     "text": [
      "total progress:  91%|█████████ | 364/400 [5:03:32<29:35, 49.32s/it]"
     ]
    },
    {
     "name": "stdout",
     "output_type": "stream",
     "text": [
      "epoch 364\tloss:223.4501\t\n",
      "365:140\t239.6118\r"
     ]
    },
    {
     "name": "stderr",
     "output_type": "stream",
     "text": [
      "total progress:  91%|█████████▏| 365/400 [5:04:21<28:43, 49.24s/it]"
     ]
    },
    {
     "name": "stdout",
     "output_type": "stream",
     "text": [
      "epoch 365\tloss:223.3768\t\n",
      "366:140\t228.3720\r"
     ]
    },
    {
     "name": "stderr",
     "output_type": "stream",
     "text": [
      "total progress:  92%|█████████▏| 366/400 [5:05:10<27:52, 49.19s/it]"
     ]
    },
    {
     "name": "stdout",
     "output_type": "stream",
     "text": [
      "epoch 366\tloss:223.4697\t\n",
      "367:140\t221.2798\r"
     ]
    },
    {
     "name": "stderr",
     "output_type": "stream",
     "text": [
      "total progress:  92%|█████████▏| 367/400 [5:05:59<27:04, 49.22s/it]"
     ]
    },
    {
     "name": "stdout",
     "output_type": "stream",
     "text": [
      "epoch 367\tloss:223.4499\t\n",
      "368:140\t225.0835\r"
     ]
    },
    {
     "name": "stderr",
     "output_type": "stream",
     "text": [
      "total progress:  92%|█████████▏| 368/400 [5:06:48<26:17, 49.29s/it]"
     ]
    },
    {
     "name": "stdout",
     "output_type": "stream",
     "text": [
      "epoch 368\tloss:223.4113\t\n",
      "369:140\t229.7701\r"
     ]
    },
    {
     "name": "stderr",
     "output_type": "stream",
     "text": [
      "total progress:  92%|█████████▏| 369/400 [5:07:38<25:28, 49.31s/it]"
     ]
    },
    {
     "name": "stdout",
     "output_type": "stream",
     "text": [
      "epoch 369\tloss:223.4547\t\n",
      "370:140\t229.5197\r"
     ]
    },
    {
     "name": "stderr",
     "output_type": "stream",
     "text": [
      "total progress:  92%|█████████▎| 370/400 [5:08:27<24:40, 49.36s/it]"
     ]
    },
    {
     "name": "stdout",
     "output_type": "stream",
     "text": [
      "epoch 370\tloss:223.4283\t\n",
      "371:140\t226.2185\r"
     ]
    },
    {
     "name": "stderr",
     "output_type": "stream",
     "text": [
      "total progress:  93%|█████████▎| 371/400 [5:09:17<23:50, 49.34s/it]"
     ]
    },
    {
     "name": "stdout",
     "output_type": "stream",
     "text": [
      "epoch 371\tloss:223.4566\t\n",
      "372:140\t236.6983\r"
     ]
    },
    {
     "name": "stderr",
     "output_type": "stream",
     "text": [
      "total progress:  93%|█████████▎| 372/400 [5:10:06<23:02, 49.39s/it]"
     ]
    },
    {
     "name": "stdout",
     "output_type": "stream",
     "text": [
      "epoch 372\tloss:223.3721\t\n",
      "373:140\t223.2158\r"
     ]
    },
    {
     "name": "stderr",
     "output_type": "stream",
     "text": [
      "total progress:  93%|█████████▎| 373/400 [5:10:56<22:14, 49.44s/it]"
     ]
    },
    {
     "name": "stdout",
     "output_type": "stream",
     "text": [
      "epoch 373\tloss:223.4546\t\n",
      "374:140\t214.3461\r"
     ]
    },
    {
     "name": "stderr",
     "output_type": "stream",
     "text": [
      "total progress:  94%|█████████▎| 374/400 [5:11:45<21:26, 49.49s/it]"
     ]
    },
    {
     "name": "stdout",
     "output_type": "stream",
     "text": [
      "epoch 374\tloss:223.3945\t\n",
      "375:140\t237.6354\r"
     ]
    },
    {
     "name": "stderr",
     "output_type": "stream",
     "text": [
      "total progress:  94%|█████████▍| 375/400 [5:12:35<20:39, 49.58s/it]"
     ]
    },
    {
     "name": "stdout",
     "output_type": "stream",
     "text": [
      "epoch 375\tloss:223.4214\t\n",
      "376:140\t216.4709\r"
     ]
    },
    {
     "name": "stderr",
     "output_type": "stream",
     "text": [
      "total progress:  94%|█████████▍| 376/400 [5:13:25<19:49, 49.57s/it]"
     ]
    },
    {
     "name": "stdout",
     "output_type": "stream",
     "text": [
      "epoch 376\tloss:223.4456\t\n",
      "377:140\t227.8200\r"
     ]
    },
    {
     "name": "stderr",
     "output_type": "stream",
     "text": [
      "total progress:  94%|█████████▍| 377/400 [5:14:14<18:59, 49.52s/it]"
     ]
    },
    {
     "name": "stdout",
     "output_type": "stream",
     "text": [
      "epoch 377\tloss:223.4194\t\n",
      "378:140\t214.0415\r"
     ]
    },
    {
     "name": "stderr",
     "output_type": "stream",
     "text": [
      "total progress:  94%|█████████▍| 378/400 [5:15:04<18:09, 49.53s/it]"
     ]
    },
    {
     "name": "stdout",
     "output_type": "stream",
     "text": [
      "epoch 378\tloss:223.4809\t\n",
      "379:140\t216.7715\r"
     ]
    },
    {
     "name": "stderr",
     "output_type": "stream",
     "text": [
      "total progress:  95%|█████████▍| 379/400 [5:15:53<17:18, 49.46s/it]"
     ]
    },
    {
     "name": "stdout",
     "output_type": "stream",
     "text": [
      "epoch 379\tloss:223.4312\t\n",
      "380:140\t214.6138\r"
     ]
    },
    {
     "name": "stderr",
     "output_type": "stream",
     "text": [
      "total progress:  95%|█████████▌| 380/400 [5:16:42<16:29, 49.50s/it]"
     ]
    },
    {
     "name": "stdout",
     "output_type": "stream",
     "text": [
      "epoch 380\tloss:223.4307\t\n",
      "381:140\t204.0416\r"
     ]
    },
    {
     "name": "stderr",
     "output_type": "stream",
     "text": [
      "total progress:  95%|█████████▌| 381/400 [5:17:32<15:41, 49.55s/it]"
     ]
    },
    {
     "name": "stdout",
     "output_type": "stream",
     "text": [
      "epoch 381\tloss:223.4384\t\n",
      "382:140\t220.3448\r"
     ]
    },
    {
     "name": "stderr",
     "output_type": "stream",
     "text": [
      "total progress:  96%|█████████▌| 382/400 [5:18:21<14:50, 49.47s/it]"
     ]
    },
    {
     "name": "stdout",
     "output_type": "stream",
     "text": [
      "epoch 382\tloss:223.4468\t\n",
      "383:140\t225.0846\r"
     ]
    },
    {
     "name": "stderr",
     "output_type": "stream",
     "text": [
      "total progress:  96%|█████████▌| 383/400 [5:19:11<13:59, 49.41s/it]"
     ]
    },
    {
     "name": "stdout",
     "output_type": "stream",
     "text": [
      "epoch 383\tloss:223.4156\t\n",
      "384:140\t233.8048\r"
     ]
    },
    {
     "name": "stderr",
     "output_type": "stream",
     "text": [
      "total progress:  96%|█████████▌| 384/400 [5:20:00<13:10, 49.39s/it]"
     ]
    },
    {
     "name": "stdout",
     "output_type": "stream",
     "text": [
      "epoch 384\tloss:223.4726\t\n",
      "385:140\t222.2983\r"
     ]
    },
    {
     "name": "stderr",
     "output_type": "stream",
     "text": [
      "total progress:  96%|█████████▋| 385/400 [5:20:49<12:21, 49.42s/it]"
     ]
    },
    {
     "name": "stdout",
     "output_type": "stream",
     "text": [
      "epoch 385\tloss:223.4284\t\n",
      "386:140\t208.3382\r"
     ]
    },
    {
     "name": "stderr",
     "output_type": "stream",
     "text": [
      "total progress:  96%|█████████▋| 386/400 [5:21:39<11:32, 49.43s/it]"
     ]
    },
    {
     "name": "stdout",
     "output_type": "stream",
     "text": [
      "epoch 386\tloss:223.4680\t\n",
      "387:140\t202.0819\r"
     ]
    },
    {
     "name": "stderr",
     "output_type": "stream",
     "text": [
      "total progress:  97%|█████████▋| 387/400 [5:22:28<10:42, 49.39s/it]"
     ]
    },
    {
     "name": "stdout",
     "output_type": "stream",
     "text": [
      "epoch 387\tloss:223.4300\t\n",
      "388:140\t202.3632\r"
     ]
    },
    {
     "name": "stderr",
     "output_type": "stream",
     "text": [
      "total progress:  97%|█████████▋| 388/400 [5:23:18<09:53, 49.42s/it]"
     ]
    },
    {
     "name": "stdout",
     "output_type": "stream",
     "text": [
      "epoch 388\tloss:223.4041\t\n",
      "389:140\t222.1732\r"
     ]
    },
    {
     "name": "stderr",
     "output_type": "stream",
     "text": [
      "total progress:  97%|█████████▋| 389/400 [5:24:07<09:03, 49.42s/it]"
     ]
    },
    {
     "name": "stdout",
     "output_type": "stream",
     "text": [
      "epoch 389\tloss:223.4817\t\n",
      "390:140\t235.5858\r"
     ]
    },
    {
     "name": "stderr",
     "output_type": "stream",
     "text": [
      "total progress:  98%|█████████▊| 390/400 [5:24:57<08:14, 49.48s/it]"
     ]
    },
    {
     "name": "stdout",
     "output_type": "stream",
     "text": [
      "epoch 390\tloss:223.4906\t\n",
      "391:140\t221.4720\r"
     ]
    },
    {
     "name": "stderr",
     "output_type": "stream",
     "text": [
      "total progress:  98%|█████████▊| 391/400 [5:25:46<07:25, 49.45s/it]"
     ]
    },
    {
     "name": "stdout",
     "output_type": "stream",
     "text": [
      "epoch 391\tloss:223.4982\t\n",
      "392:140\t224.1299\r"
     ]
    },
    {
     "name": "stderr",
     "output_type": "stream",
     "text": [
      "total progress:  98%|█████████▊| 392/400 [5:26:36<06:35, 49.47s/it]"
     ]
    },
    {
     "name": "stdout",
     "output_type": "stream",
     "text": [
      "epoch 392\tloss:223.4413\t\n",
      "393:140\t220.6133\r"
     ]
    },
    {
     "name": "stderr",
     "output_type": "stream",
     "text": [
      "total progress:  98%|█████████▊| 393/400 [5:27:25<05:46, 49.45s/it]"
     ]
    },
    {
     "name": "stdout",
     "output_type": "stream",
     "text": [
      "epoch 393\tloss:223.5091\t\n",
      "394:140\t211.4612\r"
     ]
    },
    {
     "name": "stderr",
     "output_type": "stream",
     "text": [
      "total progress:  98%|█████████▊| 394/400 [5:28:14<04:56, 49.45s/it]"
     ]
    },
    {
     "name": "stdout",
     "output_type": "stream",
     "text": [
      "epoch 394\tloss:223.4006\t\n",
      "395:140\t221.7065\r"
     ]
    },
    {
     "name": "stderr",
     "output_type": "stream",
     "text": [
      "total progress:  99%|█████████▉| 395/400 [5:29:04<04:07, 49.40s/it]"
     ]
    },
    {
     "name": "stdout",
     "output_type": "stream",
     "text": [
      "epoch 395\tloss:223.4004\t\n",
      "396:140\t232.5755\r"
     ]
    },
    {
     "name": "stderr",
     "output_type": "stream",
     "text": [
      "total progress:  99%|█████████▉| 396/400 [5:29:53<03:17, 49.36s/it]"
     ]
    },
    {
     "name": "stdout",
     "output_type": "stream",
     "text": [
      "epoch 396\tloss:223.4668\t\n",
      "397:140\t218.8680\r"
     ]
    },
    {
     "name": "stderr",
     "output_type": "stream",
     "text": [
      "total progress:  99%|█████████▉| 397/400 [5:30:43<02:28, 49.39s/it]"
     ]
    },
    {
     "name": "stdout",
     "output_type": "stream",
     "text": [
      "epoch 397\tloss:223.5129\t\n",
      "398:140\t225.4200\r"
     ]
    },
    {
     "name": "stderr",
     "output_type": "stream",
     "text": [
      "total progress: 100%|█████████▉| 398/400 [5:31:32<01:38, 49.46s/it]"
     ]
    },
    {
     "name": "stdout",
     "output_type": "stream",
     "text": [
      "epoch 398\tloss:223.4920\t\n",
      "399:140\t222.9323\r"
     ]
    },
    {
     "name": "stderr",
     "output_type": "stream",
     "text": [
      "total progress: 100%|█████████▉| 399/400 [5:32:22<00:49, 49.46s/it]"
     ]
    },
    {
     "name": "stdout",
     "output_type": "stream",
     "text": [
      "epoch 399\tloss:223.4280\t\n",
      "epoch 400\tloss:223.3708\t\n"
     ]
    },
    {
     "name": "stderr",
     "output_type": "stream",
     "text": [
      "total progress: 100%|██████████| 400/400 [5:33:12<00:00, 49.98s/it]\n"
     ]
    }
   ],
   "source": [
    "#######################################################\n",
    "# This is a PyTorch implementation for probabilistic\n",
    "# LigNet regression model.\n",
    "#######################################################\n",
    "\n",
    "import os, time\n",
    "import re\n",
    "from tqdm import tqdm\n",
    "import numpy as np\n",
    "import torch\n",
    "import torch.nn as nn\n",
    "import torch.nn.functional as F\n",
    "import pickle\n",
    "from utils import *\n",
    "\n",
    "#############################\n",
    "# Hyperparameters\n",
    "#############################\n",
    "lr             = 1e-4\n",
    "beta1          = 0.0\n",
    "beta2          = 0.9\n",
    "batch_size     = 16\n",
    "max_epoch      = 400\n",
    "num_workers    = 2\n",
    "ligand_size    = 36\n",
    "gen_dim        = 64\n",
    "conv_dims      = [2048, 4096, 2048, 1024]\n",
    "visualization  = False\n",
    "save_step      = 100\n",
    "latent_dim     = 8\n",
    "num_samples    = 1024\n",
    "start_epoch    = 0\n",
    "\n",
    "name = \"model/lv-lignet\"\n",
    "log_fname = f\"{name}\"\n",
    "viz_dir = f\"{name}\"\n",
    "models_dir = f\"{name}/saved_models\"\n",
    "\n",
    "device = torch.device(\"cuda:0\")\n",
    "\n",
    "if not os.path.exists(log_fname):\n",
    "    os.makedirs(log_fname)\n",
    "if not os.path.exists(viz_dir):\n",
    "    os.makedirs(viz_dir)\n",
    "if not os.path.exists(models_dir):\n",
    "    os.makedirs(models_dir)\n",
    "\n",
    "#############################\n",
    "# Define Receptor2Ligand Network\n",
    "#############################\n",
    "class BasicBlock(nn.Module):\n",
    "    def __init__(\n",
    "            self,\n",
    "            in_channels,\n",
    "            out_channels,\n",
    "            hidden_channels=None,\n",
    "            ksize=3,\n",
    "            pad=1,\n",
    "            activation=nn.ReLU()):\n",
    "        super(BasicBlock, self).__init__()\n",
    "        self.activation = activation\n",
    "        hidden_channels = in_channels if not hidden_channels else hidden_channels\n",
    "        \n",
    "        self.c1 = nn.Conv3d(\n",
    "            in_channels,\n",
    "            hidden_channels,\n",
    "            kernel_size=ksize,\n",
    "            padding=pad)\n",
    "        self.c2 = nn.Conv3d(\n",
    "            hidden_channels,\n",
    "            hidden_channels,\n",
    "            kernel_size=ksize,\n",
    "            padding=pad)\n",
    "        self.c3 = nn.Conv3d(\n",
    "            hidden_channels,\n",
    "            out_channels,\n",
    "            kernel_size=ksize,\n",
    "            padding=pad)\n",
    "        self.c1 = nn.utils.spectral_norm(self.c1)\n",
    "        self.c2 = nn.utils.spectral_norm(self.c2)\n",
    "        self.c3 = nn.utils.spectral_norm(self.c3)\n",
    "\n",
    "    def forward(self, x):\n",
    "        h = self.c1(x)\n",
    "        h = self.activation(h)\n",
    "        h = self.c2(h)\n",
    "        h = self.activation(h)\n",
    "        h = self.c3(h)\n",
    "        out = self.activation(h)\n",
    "        return out\n",
    "\n",
    "class RecPredictor(nn.Module):\n",
    "    \"\"\"Deterministic network for mapping receptors to ligands.\"\"\"\n",
    "    def __init__(self, in_channels, out_channels=3, hidden_channels=None, activation=nn.ReLU()):\n",
    "        super(RecPredictor, self).__init__()\n",
    "\n",
    "        self.activation = activation\n",
    "        self.ch = gen_dim\n",
    "        self.latent_dim = latent_dim\n",
    "        self.block1 = BasicBlock(in_channels, self.ch, hidden_channels, activation=activation)\n",
    "        self.block2 = BasicBlock(self.ch, self.ch, hidden_channels, activation=activation)\n",
    "        self.block3 = BasicBlock(self.ch, out_channels, hidden_channels, activation=activation)\n",
    "\n",
    "        self.fc_mu = nn.Linear(3000, self.latent_dim)\n",
    "        self.fc_var = nn.Linear(3000, self.latent_dim)\n",
    "\n",
    "    def forward(self, x):\n",
    "        # Encode receptor features.\n",
    "        h = self.block1(x)\n",
    "        h = self.block2(h)\n",
    "        h = self.block3(h)\n",
    "        out = h.view(h.size(0), -1)\n",
    "\n",
    "        mu = self.fc_mu(out)\n",
    "        log_var = self.fc_var(out)\n",
    "\n",
    "        return out, mu, log_var\n",
    "\n",
    "class LV_LigNet(nn.Module):\n",
    "    \"\"\"Deep probabilistic regression for mapping receptors to ligand distributions.\"\"\"\n",
    "    def __init__(self, conv_dims):\n",
    "        super(LV_LigNet, self).__init__()\n",
    "        self.num_atoms = len(ligAtom)\n",
    "        self.num_bonds = len(bondType)\n",
    "        self.latent_dim = latent_dim\n",
    "        self.rec_predictor = torch.nn.DataParallel(RecPredictor(8, out_channels=3, hidden_channels=5))\n",
    "\n",
    "        layers = []\n",
    "        for c0, c1 in zip([3000+self.latent_dim]+conv_dims[:-1], conv_dims):\n",
    "            layers.append(nn.Linear(c0, c1))\n",
    "            layers.append(nn.ReLU())\n",
    "            layers.append(nn.Dropout(p=0.5))\n",
    "        self.layers = nn.Sequential(*layers)\n",
    "\n",
    "        self.atom_layer = nn.Sequential(\n",
    "                          nn.Linear(conv_dims[-1], 2048),\n",
    "                          nn.ReLU(),\n",
    "                          nn.Linear(2048, ligand_size * self.num_atoms),\n",
    "                          nn.Dropout(p=0.5)\n",
    "                          )\n",
    "        self.bonds_layer = nn.Sequential(\n",
    "                          nn.Linear(conv_dims[-1], 2048),\n",
    "                          nn.ReLU(),\n",
    "                          nn.Linear(2048, ligand_size * ligand_size * self.num_bonds),\n",
    "                          nn.Dropout(p=0.5)\n",
    "                          )\n",
    "\n",
    "    def gmm_sampling(self, mu, logvar):\n",
    "        std = torch.exp(0.5 * logvar)\n",
    "        mu, std = mu.unsqueeze(1), std.unsqueeze(1)\n",
    "        samples = mu + std * torch.randn(num_samples, self.latent_dim, device=device) # shape = (N, num_samples, latent_dim)\n",
    "        # samples = samples.unsqueeze(0).repeat(batch_size, 1, 1) # shape = (N, num_samples, latent_dim)\n",
    "        return samples\n",
    "\n",
    "    def forward(self, rec_enc, mu, log_var):\n",
    "\n",
    "        # Generate atoms and bonds.\n",
    "        z = self.gmm_sampling(mu, log_var)\n",
    "        rec_enc = rec_enc.unsqueeze(1).repeat(1, num_samples, 1) # shape = (N, num_samples, 3000)\n",
    "        h = torch.cat((rec_enc, z), -1) # shape = (N, num_samples, 3000+latent_dim)\n",
    "        out = self.layers(h)\n",
    "        atoms_logits = self.atom_layer(out).view(out.size(0), -1, ligand_size, self.num_atoms)\n",
    "        atoms_logits = nn.Softmax(dim=-1)(atoms_logits)\n",
    "\n",
    "        ### TODO: check whether to move bonds to 2nd dim.\n",
    "        bonds_logits = self.bonds_layer(out).view(out.size(0), -1, ligand_size, ligand_size, self.num_bonds)\n",
    "        bonds_logits = (bonds_logits + bonds_logits.permute(0, 1, 3, 2, 4)) / 2.0\n",
    "        bonds_logits = nn.Softmax(dim=-1)(bonds_logits)\n",
    "\n",
    "        return atoms_logits, bonds_logits\n",
    "\n",
    "# Make the optimizer.\n",
    "model = LV_LigNet(conv_dims).to(device)\n",
    "optimizer = torch.optim.Adam(model.parameters(), lr, (beta1, beta2))\n",
    "\n",
    "# Make the dataloaders.\n",
    "(trainingData, medusa, training) = pickle.load(open('data/tutorialData.pkl', 'rb'))\n",
    "receptor, bonds, atoms, bd = zip(*[trainingData[pdbid] for pdbid in training])\n",
    "receptor = torch.tensor(np.concatenate(receptor)).permute((0, 4, 1, 2, 3)).float()\n",
    "atoms, bonds = torch.tensor(atoms).float(), torch.tensor(bonds).float()\n",
    "bd = torch.tensor(bd).float()\n",
    "medusa = torch.tensor(np.concatenate([medusa[pdbid] for pdbid in training])).float()\n",
    "\n",
    "train_loader = torch.utils.data.DataLoader(list(zip(receptor, atoms, bonds, bd, medusa)), \n",
    "                        batch_size=batch_size, shuffle=True, pin_memory=True, drop_last=True,\n",
    "                        num_workers=num_workers)\n",
    "\n",
    "test = pickle.load(open('data/coreData.pkl','rb'))\n",
    "receptor, bonds, atoms, bd = zip(*[test[pdbid] for pdbid in list(test.keys())])\n",
    "receptor = torch.tensor(np.concatenate(receptor)).permute((0, 4, 1, 2, 3)).float()\n",
    "atoms, bonds = torch.tensor(atoms).float(), torch.tensor(bonds).float()\n",
    "bd = torch.tensor(bd).float()\n",
    "\n",
    "test_loader = torch.utils.data.DataLoader(list(zip(receptor, atoms, bonds, bd)),\n",
    "                        batch_size=batch_size, shuffle=False, pin_memory=True, drop_last=True,\n",
    "                        num_workers=num_workers)\n",
    "\n",
    "def main():\n",
    "    # train loop\n",
    "    print('Start traning...')\n",
    "    for epoch in tqdm(range(start_epoch, max_epoch),  desc='total progress'):\n",
    "        model.train()\n",
    "        losses = []\n",
    "        for batch, (recs, atoms, bonds, bd, medusa) in enumerate(train_loader):\n",
    "            curr_log = f\"epoch {epoch+1}\\t\"\n",
    "\n",
    "            # Train the model.\n",
    "            optimizer.zero_grad()\n",
    "            lig_pred, mu, logvar = model.rec_predictor(recs)\n",
    "            atoms_logits, bonds_logits = model(lig_pred, mu, logvar)\n",
    "            \n",
    "            atoms = atoms.unsqueeze(1).repeat(1, num_samples, 1, 1).cuda()\n",
    "            bonds = bonds.unsqueeze(1).repeat(1, num_samples, 1, 1, 1).cuda()\n",
    "\n",
    "            atom_loss = torch.mean(torch.sum(torch.square(atoms_logits-atoms), (-2, -1)))\n",
    "            bond_loss = torch.mean(torch.sum(torch.square(bonds_logits-bonds), (-3, -2, -1)))\n",
    "            batch_loss = atom_loss + bond_loss\n",
    "            \n",
    "            batch_loss.backward()\n",
    "            losses.append(batch_loss.item())\n",
    "            print(f\"{epoch+1}:{batch}\\t{batch_loss.item():.4f}\", end=\"\\r\")\n",
    "            optimizer.step()\n",
    "\n",
    "        curr_log += f\"loss:{np.mean(losses):.4f}\\t\"\n",
    "        print_and_save(curr_log, f\"{log_fname}/log.txt\")\n",
    "\n",
    "        if (epoch+1) % save_step == 0:\n",
    "            torch.save({\n",
    "                        'epoch': epoch+1,\n",
    "                        'model_state_dict': model.state_dict(),\n",
    "                        'optimizer_state_dict': optimizer.state_dict(),\n",
    "                        'loss': np.mean(losses)\n",
    "                        }, f\"{models_dir}/lv-lignet-{epoch+1}.pth\")\n",
    "\n",
    "if __name__ == '__main__':\n",
    "    main()"
   ]
  },
  {
   "cell_type": "code",
   "execution_count": null,
   "metadata": {},
   "outputs": [],
   "source": []
  }
 ],
 "metadata": {
  "interpreter": {
   "hash": "8d856909ca9685d9bf9012774e4c92e1590f564586ad7784e5945c8d33388486"
  },
  "kernelspec": {
   "display_name": "Python 3.7.13 ('kongsr')",
   "language": "python",
   "name": "python3"
  },
  "language_info": {
   "codemirror_mode": {
    "name": "ipython",
    "version": 3
   },
   "file_extension": ".py",
   "mimetype": "text/x-python",
   "name": "python",
   "nbconvert_exporter": "python",
   "pygments_lexer": "ipython3",
   "version": "3.7.13"
  },
  "orig_nbformat": 4
 },
 "nbformat": 4,
 "nbformat_minor": 2
}
