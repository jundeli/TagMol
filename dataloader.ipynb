{
 "cells": [
  {
   "cell_type": "code",
   "execution_count": 12,
   "metadata": {},
   "outputs": [],
   "source": [
    "import os\n",
    "import numpy as np\n",
    "from rdkit import Chem\n",
    "from rdkit.Chem.rdchem import BondType\n",
    "from rdkit.Chem.rdmolfiles import MolFromMol2File\n",
    "from rdkit.Chem.rdmolops import GetAdjacencyMatrix, RemoveHs"
   ]
  },
  {
   "cell_type": "code",
   "execution_count": 2,
   "metadata": {},
   "outputs": [],
   "source": [
    "# Define the atom types we are interested in for the protein\n",
    "atomDict = {'C': np.int8(1), 'O': np.int8(2), 'N': np.int8(3), 'S': np.int8(4), 'P': np.int8(5), 'H': np.int8(6), 'X': np.int8(7)}\n",
    "rAtomDict = {v: k for (k,v) in atomDict.items()}\n",
    "rAtomDict[np.int8(0)] = None\n",
    "\n",
    "# Define atom types and bond orders we are interested in for the ligand\n",
    "# We encode aromatics as a separate bond type (1.5: np.int8(4))\n",
    "bondType = {0.0: np.int8(0), 1.0: np.int8(1), 2.0: np.int8(2), 3.0: np.int8(3), 1.5: np.int8(4)}\n",
    "bondMap = np.vectorize(lambda x: bondType[x])\n",
    "# The None entry in ligAtom is necessary to ensure correct one-hot encoding\n",
    "ligAtom = {None: 0, 'C': 1, 'N': 2, 'O': 3, 'F': 4, 'S': 5, 'X': 6}\n",
    "ligAtomMap = np.vectorize(lambda x: ligAtom[x.GetSymbol()] if x.GetSymbol() in ligAtom else 6)"
   ]
  },
  {
   "cell_type": "code",
   "execution_count": 21,
   "metadata": {},
   "outputs": [
    {
     "name": "stdout",
     "output_type": "stream",
     "text": [
      "1a1e {'O', 'S', 'C', 'N'}\n",
      "1a4r {'O', 'S', 'C', 'N'}\n",
      "1ai4 {'O', 'S', 'C', 'N'}\n",
      "1ajp {'O', 'S', 'C', 'N'}\n",
      "1aid {'O', 'S', 'C', 'N'}\n",
      "1ajx {'O', 'S', 'C', 'N'}\n",
      "1ajq {'O', 'S', 'C', 'N'}\n",
      "1ajv {'O', 'S', 'C', 'N'}\n",
      "1ai5 {'O', 'S', 'C', 'N'}\n",
      "1add {'O', 'S', 'C', 'N'}\n",
      "1amw {'O', 'S', 'C', 'N'}\n",
      "1amk {'O', 'S', 'C', 'N'}\n",
      "1adl {'O', 'S', 'C', 'N'}\n",
      "1a99 {'O', 'S', 'C', 'N'}\n",
      "1a30 {'O', 'S', 'C', 'N'}\n",
      "1a4w {'O', 'S', 'C', 'N'}\n",
      "1atl {'O', 'S', 'C', 'N'}\n",
      "1a4k {'4', '0', '5', '8', '7', '1', '6', '3', '2', '9'}\n",
      "1a28 {'O', 'S', 'C', 'N'}\n",
      "1ai7 {'O', 'S', 'C', 'N'}\n",
      "1afk {'O', 'S', 'C', 'N'}\n",
      "1afl {'O', 'S', 'C', 'N'}\n",
      "1ajn {'O', 'S', 'C', 'N'}\n",
      "1alw {'O', 'S', 'C', 'N'}\n",
      "1aj7 {'O', 'S', 'C', 'N'}\n",
      "1aaq {'O', 'S', 'C', 'N'}\n",
      "1ado {'O', 'S', 'C', 'N'}\n",
      "1apv {'O', 'S', 'C', 'N'}\n",
      "1a9m {'O', 'S', 'C', 'N'}\n",
      "1a94 {'O', 'S', 'C', 'N'}\n",
      "1a9q {'O', 'S', 'C', 'N'}\n",
      "1a69 {'O', 'S', 'C', 'N'}\n"
     ]
    }
   ],
   "source": [
    "pl_dir = 'data/pdbbind/tiny-set'\n",
    "atom_set = set([])\n",
    "for  PDBID in os.listdir(pl_dir):\n",
    "    # Load the protein by parsing the .pdb file\n",
    "    with open(f'data/pdbbind/tiny-set/{PDBID}/{PDBID}_protein.pdb') as f:\n",
    "        data = [(line[-1], [float(i) for i in line.split()[6:9]]) \\\n",
    "                        for line in f.read().split('\\n') if line[:4]=='ATOM' and line[-1]!='H']\n",
    "        print(PDBID, set([i[0] for i in data]))\n",
    "        # for i in data:\n",
    "        #     atom_set.add(i[0])"
   ]
  },
  {
   "cell_type": "code",
   "execution_count": 18,
   "metadata": {},
   "outputs": [
    {
     "data": {
      "text/plain": [
       "{'0', '1', '2', '3', '4', '5', '6', '7', '8', '9', 'C', 'N', 'O', 'S'}"
      ]
     },
     "execution_count": 18,
     "metadata": {},
     "output_type": "execute_result"
    }
   ],
   "source": [
    "atom_set"
   ]
  },
  {
   "cell_type": "code",
   "execution_count": 11,
   "metadata": {},
   "outputs": [
    {
     "data": {
      "text/plain": [
       "{'C', 'N', 'O', 'S'}"
      ]
     },
     "execution_count": 11,
     "metadata": {},
     "output_type": "execute_result"
    }
   ],
   "source": [
    "at"
   ]
  },
  {
   "cell_type": "code",
   "execution_count": null,
   "metadata": {},
   "outputs": [],
   "source": []
  }
 ],
 "metadata": {
  "kernelspec": {
   "display_name": "Python 3.8.13 ('kongsr')",
   "language": "python",
   "name": "python3"
  },
  "language_info": {
   "codemirror_mode": {
    "name": "ipython",
    "version": 3
   },
   "file_extension": ".py",
   "mimetype": "text/x-python",
   "name": "python",
   "nbconvert_exporter": "python",
   "pygments_lexer": "ipython3",
   "version": "3.8.13"
  },
  "orig_nbformat": 4,
  "vscode": {
   "interpreter": {
    "hash": "98ee1570fecdb964de496ae5cd8ca6705e5126ae24bf68c085fe27dd5c9aa80d"
   }
  }
 },
 "nbformat": 4,
 "nbformat_minor": 2
}
