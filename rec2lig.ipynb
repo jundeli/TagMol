{
 "cells": [
  {
   "cell_type": "code",
   "execution_count": 8,
   "metadata": {},
   "outputs": [],
   "source": [
    "import os, time\n",
    "import re\n",
    "from tqdm import tqdm\n",
    "import numpy as np\n",
    "import torch\n",
    "import torch.nn as nn\n",
    "import torch.nn.functional as F\n",
    "import pickle\n",
    "from utils import *\n",
    "from tf_neural_dock import Energy\n",
    "\n",
    "#############################\n",
    "# Hyperparameters\n",
    "#############################\n",
    "lr             = 1e-5\n",
    "beta1          = 0.0\n",
    "beta2          = 0.9\n",
    "batch_size     = 16\n",
    "max_epoch      = 1000\n",
    "num_workers    = 2\n",
    "ligand_size    = 36\n",
    "gen_dim        = 64\n",
    "conv_dims      = [1024, 2048, 4096, 2048, 1024]\n",
    "visualization  = False\n",
    "save_step      = 100\n",
    "resume_step    = 600\n",
    "\n",
    "name = \"rec2lig\"\n",
    "log_fname = f\"{name}/logs/pdb\"\n",
    "viz_dir = f\"{name}/viz/pdb\"\n",
    "models_dir = f\"{name}/saved_models/pdb\"\n",
    "\n",
    "if not os.path.exists(log_fname):\n",
    "    os.makedirs(log_fname)\n",
    "if not os.path.exists(viz_dir):\n",
    "    os.makedirs(viz_dir)\n",
    "if not os.path.exists(models_dir):\n",
    "    os.makedirs(models_dir)"
   ]
  },
  {
   "cell_type": "code",
   "execution_count": 9,
   "metadata": {},
   "outputs": [],
   "source": [
    "#############################\n",
    "# Define Receptor2Ligand Network\n",
    "#############################\n",
    "class BasicBlock(nn.Module):\n",
    "    def __init__(\n",
    "            self,\n",
    "            in_channels,\n",
    "            out_channels,\n",
    "            hidden_channels=None,\n",
    "            ksize=3,\n",
    "            pad=1,\n",
    "            activation=nn.ReLU()):\n",
    "        super(BasicBlock, self).__init__()\n",
    "        self.activation = activation\n",
    "        hidden_channels = in_channels if not hidden_channels else hidden_channels\n",
    "        \n",
    "        self.c1 = nn.Conv3d(\n",
    "            in_channels,\n",
    "            hidden_channels,\n",
    "            kernel_size=ksize,\n",
    "            padding=pad)\n",
    "        self.c2 = nn.Conv3d(\n",
    "            hidden_channels,\n",
    "            out_channels,\n",
    "            kernel_size=ksize,\n",
    "            padding=pad)\n",
    "        self.c1 = nn.utils.spectral_norm(self.c1)\n",
    "        self.c2 = nn.utils.spectral_norm(self.c2)\n",
    "\n",
    "    def forward(self, x):\n",
    "        h = x\n",
    "        h = self.activation(h)\n",
    "        h = self.c1(h)\n",
    "        h = self.activation(h)\n",
    "        h = self.c2(h)\n",
    "        return h\n",
    "\n",
    "class Receptor2Ligand(nn.Module):\n",
    "    \"\"\"Network for mapping receptors to ligands.\"\"\"\n",
    "    def __init__(self, conv_dims, in_channels=8, out_channels=3, activation=nn.ReLU()):\n",
    "        super(Receptor2Ligand, self).__init__()\n",
    "        self.num_atoms = len(ligAtom)\n",
    "        self.num_bonds = len(bondType)\n",
    "\n",
    "        self.activation = activation\n",
    "        self.ch = gen_dim\n",
    "        self.block1 = BasicBlock(in_channels, self.ch, activation=activation)\n",
    "        self.block2 = BasicBlock(self.ch, self.ch, activation=activation)\n",
    "        self.block3 = BasicBlock(self.ch, out_channels, activation=activation)\n",
    "        self.bn = nn.BatchNorm2d(in_channels)\n",
    "\n",
    "        layers = []\n",
    "        for c0, c1 in zip([3000]+conv_dims[:-1], conv_dims):\n",
    "            layers.append(nn.Linear(c0, c1))\n",
    "            layers.append(nn.ReLU())\n",
    "            layers.append(nn.Dropout(p=0.5))\n",
    "        self.layers = nn.Sequential(*layers)\n",
    "\n",
    "        self.atom_layer = nn.Sequential(\n",
    "                          nn.Linear(conv_dims[-1], 2048),\n",
    "                          nn.ReLU(),\n",
    "                          nn.Linear(2048, ligand_size * self.num_atoms),\n",
    "                          nn.Dropout(p=0.5)\n",
    "                          )\n",
    "        self.bonds_layer = nn.Sequential(\n",
    "                          nn.Linear(conv_dims[-1], 2048),\n",
    "                          nn.ReLU(),\n",
    "                          nn.Linear(2048, ligand_size * ligand_size * self.num_bonds),\n",
    "                          nn.Dropout(p=0.5)\n",
    "                          )\n",
    "\n",
    "    def forward(self, x):\n",
    "        # Encode receptor features.\n",
    "        h = self.block1(x)\n",
    "        h = self.block2(h)\n",
    "        h = self.block3(h)\n",
    "        # h = F.avg_pool3d(h, 2)\n",
    "        h = h.view(h.size(0), -1)\n",
    "\n",
    "        # Generate atoms and bonds.\n",
    "        out = self.layers(h)\n",
    "        atoms_logits = self.atom_layer(out).view(-1, ligand_size, self.num_atoms)\n",
    "        atoms_logits = nn.Softmax(dim=-1)(atoms_logits)\n",
    "\n",
    "        ### TODO: check whether to move bonds to 2nd dim.\n",
    "        bonds_logits = self.bonds_layer(out).view(-1, ligand_size, ligand_size, self.num_bonds)\n",
    "        bonds_logits = (bonds_logits + bonds_logits.permute(0, 2, 1, 3)) / 2\n",
    "        bonds_logits = nn.Softmax(dim=-1)(bonds_logits)\n",
    "\n",
    "        return atoms_logits, bonds_logits"
   ]
  },
  {
   "cell_type": "code",
   "execution_count": 12,
   "metadata": {},
   "outputs": [
    {
     "name": "stderr",
     "output_type": "stream",
     "text": [
      "C:\\Users\\jli\\AppData\\Local\\Temp/ipykernel_13420/878278577.py:15: UserWarning: Creating a tensor from a list of numpy.ndarrays is extremely slow. Please consider converting the list to a single numpy.ndarray with numpy.array() before converting to a tensor. (Triggered internally at  ..\\torch\\csrc\\utils\\tensor_new.cpp:201.)\n",
      "  atoms, bonds = torch.tensor(atoms).float(), torch.tensor(bonds).float()\n"
     ]
    }
   ],
   "source": [
    "# Make the optimizer.\n",
    "model = torch.nn.DataParallel(Receptor2Ligand(conv_dims))\n",
    "optimizer = torch.optim.Adam(model.parameters(), lr, (beta1, beta2))\n",
    "if resume_step:\n",
    "    checkpoint = torch.load(f\"{models_dir}\"+f\"/rec2lig-{resume_step}.pth\")\n",
    "    model.load_state_dict(checkpoint['model_state_dict'])\n",
    "    start_epoch = resume_step\n",
    "else:\n",
    "    start_epoch = 0\n",
    "\n",
    "# Make the dataloaders.\n",
    "(trainingData, medusa, training) = pickle.load(open('data/tutorialData.pkl', 'rb'))\n",
    "receptor, bonds, atoms, bd = zip(*[trainingData[pdbid] for pdbid in training])\n",
    "receptor = torch.tensor(np.concatenate(receptor)).permute((0, 4, 1, 2, 3)).float()\n",
    "atoms, bonds = torch.tensor(atoms).float(), torch.tensor(bonds).float()\n",
    "bd = torch.tensor(bd).float()\n",
    "medusa = torch.tensor(np.concatenate([medusa[pdbid] for pdbid in training])).float()\n",
    "\n",
    "train_loader = torch.utils.data.DataLoader(list(zip(receptor, atoms, bonds, bd, medusa)), \n",
    "                        batch_size=batch_size, shuffle=True, pin_memory=True, drop_last=True,\n",
    "                        num_workers=num_workers)\n",
    "\n",
    "test = pickle.load(open('data/coreData.pkl','rb'))\n",
    "receptor, bonds, atoms, bd = zip(*[test[pdbid] for pdbid in list(test.keys())])\n",
    "receptor = torch.tensor(np.concatenate(receptor)).permute((0, 4, 1, 2, 3)).float()\n",
    "atoms, bonds = torch.tensor(atoms).float(), torch.tensor(bonds).float()\n",
    "bd = torch.tensor(bd).float()\n",
    "\n",
    "test_loader = torch.utils.data.DataLoader(list(zip(receptor, atoms, bonds, bd)),\n",
    "                        batch_size=batch_size, shuffle=False, pin_memory=True, drop_last=True,\n",
    "                        num_workers=num_workers)"
   ]
  },
  {
   "cell_type": "code",
   "execution_count": 22,
   "metadata": {},
   "outputs": [
    {
     "data": {
      "text/plain": [
       "<tensorflow.python.training.tracking.util.CheckpointLoadStatus at 0x28db6ab1e20>"
      ]
     },
     "execution_count": 22,
     "metadata": {},
     "output_type": "execute_result"
    }
   ],
   "source": [
    "# Load NeuralDock for validation.\n",
    "# neuraldock = NeuralDock()\n",
    "# name = \"neural\"\n",
    "# models_dir = f\"{name}/saved_models\"\n",
    "# checkpoint = torch.load(f\"{models_dir}/neuraldock-2000.pth\")\n",
    "# neuraldock.load_state_dict(checkpoint['model_state_dict'])\n",
    "\n",
    "neuraldock = Energy()\n",
    "models_dir = \"data/finalNoTrans\"\n",
    "neuraldock.load_weights(f\"{models_dir}/model-epoch{4000}\")"
   ]
  },
  {
   "cell_type": "code",
   "execution_count": 24,
   "metadata": {},
   "outputs": [
    {
     "name": "stdout",
     "output_type": "stream",
     "text": [
      "torch.Size([16, 36, 7])\n",
      "torch.Size([16, 36, 36, 5])\n"
     ]
    }
   ],
   "source": [
    "for batch, (recs, atoms, bonds, bd) in enumerate(test_loader):\n",
    "    atoms_logits, bonds_logits = model(recs)\n",
    "    # real_bd, real_stats = neuraldock(recs, atoms, bonds)\n",
    "    # fake_bd, fake_stats = neuraldock(recs, atoms_logits, bonds_logits)\n",
    "    print(atoms_logits.shape)\n",
    "    print(bonds_logits.shape)\n",
    "    break"
   ]
  },
  {
   "cell_type": "code",
   "execution_count": 43,
   "metadata": {},
   "outputs": [],
   "source": [
    "energy, bdPred = neuraldock.energy([recs.permute(0, 2, 3, 4, 1).detach().numpy(), bonds.detach().numpy(), atoms.detach().numpy()])"
   ]
  },
  {
   "cell_type": "code",
   "execution_count": null,
   "metadata": {},
   "outputs": [],
   "source": []
  },
  {
   "cell_type": "code",
   "execution_count": null,
   "metadata": {},
   "outputs": [],
   "source": [
    "# TODO: Get pre-trained the NuralDock model.\n",
    "def compute_dock_energy(neuraldock, model, data_loader):\n",
    "    neuraldock.eval()\n",
    "    real_de, fake_de = 0, 0\n",
    "    for recs, atoms, bonds in tqdm(data_loader):\n",
    "        atoms_logits, bonds_logits = model(recs)\n",
    "        real_de += neuraldock(recs, atoms, bonds).sum()\n",
    "        fake_de += neuraldock(recs, atoms_logits, bonds_logits).sum()\n",
    "    \n",
    "    size = len(data_loader.dataset)\n",
    "    return real_de/size, fake_de/size\n",
    "\n",
    "# train loop\n",
    "print('Start traning...')\n",
    "lowest_loss = np.inf\n",
    "for epoch in tqdm(range(start_epoch, max_epoch),  desc='total progress'):\n",
    "    model.train()\n",
    "    losses = []\n",
    "    for batch, (recs, atoms, bonds, bd, medusa) in enumerate(train_loader):\n",
    "        curr_log = f\"epoch {epoch+1}\\t\"\n",
    "\n",
    "        # Train the model.\n",
    "        optimizer.zero_grad()\n",
    "        atoms_logits, bonds_logits = model(recs)\n",
    "        loss = torch.nn.MSELoss(reduction='sum')(atoms_logits, atoms) + \\\n",
    "               torch.nn.MSELoss(reduction='sum')(bonds_logits, bonds)\n",
    "        loss = loss / atoms.size(0)\n",
    "        \n",
    "        loss.backward()\n",
    "        losses.append(loss.item())\n",
    "        print(f\"{epoch+1}:{batch}\\t{loss.item():.4f}\", end=\"\\r\")\n",
    "        optimizer.step()\n",
    "\n",
    "    curr_log += f\"loss:{np.mean(losses):.4f}\\t\"\n",
    "    print_and_save(curr_log, f\"{log_fname}/log.txt\")\n",
    "\n",
    "    # # TODO: Varify atom labels before visualization.\n",
    "    # if visualization:\n",
    "    #     (atoms_hard, bonds_hard) = postprocess((atoms_logits, bonds_logits), 'hard_gumbel')\n",
    "    #     atoms_hard, bonds_hard = torch.max(atoms_hard, -1)[1], torch.max(bonds_hard, -1)[1]\n",
    "    #     mols = [matrices2mol(a.item(), b.item(), strict=True) for a, b in zip(atoms_hard, bonds_hard)]\n",
    "\n",
    "    if (epoch+1) % save_step == 0:\n",
    "        if np.mean(losses) < lowest_loss:\n",
    "            lowest_loss = np.mean(losses)\n",
    "        torch.save({\n",
    "                    'epoch': epoch+1,\n",
    "                    'model_state_dict': model.state_dict(),\n",
    "                    'optimizer_state_dict': optimizer.state_dict(),\n",
    "                    'loss': loss\n",
    "                    }, f\"{models_dir}/rec2lig-{epoch+1}.pth\")"
   ]
  },
  {
   "cell_type": "code",
   "execution_count": null,
   "metadata": {},
   "outputs": [],
   "source": []
  },
  {
   "cell_type": "code",
   "execution_count": 4,
   "metadata": {},
   "outputs": [
    {
     "name": "stdout",
     "output_type": "stream",
     "text": [
      "Start traning...\n"
     ]
    },
    {
     "name": "stderr",
     "output_type": "stream",
     "text": [
      "total progress:   0%|          | 0/1000 [00:00<?, ?it/s]"
     ]
    },
    {
     "name": "stdout",
     "output_type": "stream",
     "text": [
      "1:6\t1057.5829\r"
     ]
    },
    {
     "name": "stderr",
     "output_type": "stream",
     "text": [
      "total progress:   0%|          | 0/1000 [00:16<?, ?it/s]\n"
     ]
    },
    {
     "ename": "KeyboardInterrupt",
     "evalue": "",
     "output_type": "error",
     "traceback": [
      "\u001b[1;31m---------------------------------------------------------------------------\u001b[0m",
      "\u001b[1;31mKeyboardInterrupt\u001b[0m                         Traceback (most recent call last)",
      "\u001b[1;32m~\\AppData\\Local\\Temp/ipykernel_6896/2779050284.py\u001b[0m in \u001b[0;36m<module>\u001b[1;34m\u001b[0m\n\u001b[0;32m     18\u001b[0m         \u001b[0mlosses\u001b[0m\u001b[1;33m.\u001b[0m\u001b[0mappend\u001b[0m\u001b[1;33m(\u001b[0m\u001b[0mloss\u001b[0m\u001b[1;33m.\u001b[0m\u001b[0mitem\u001b[0m\u001b[1;33m(\u001b[0m\u001b[1;33m)\u001b[0m\u001b[1;33m)\u001b[0m\u001b[1;33m\u001b[0m\u001b[1;33m\u001b[0m\u001b[0m\n\u001b[0;32m     19\u001b[0m         \u001b[0mprint\u001b[0m\u001b[1;33m(\u001b[0m\u001b[1;34mf\"{epoch+1}:{batch}\\t{loss.item():.4f}\"\u001b[0m\u001b[1;33m,\u001b[0m \u001b[0mend\u001b[0m\u001b[1;33m=\u001b[0m\u001b[1;34m\"\\r\"\u001b[0m\u001b[1;33m)\u001b[0m\u001b[1;33m\u001b[0m\u001b[1;33m\u001b[0m\u001b[0m\n\u001b[1;32m---> 20\u001b[1;33m         \u001b[0moptimizer\u001b[0m\u001b[1;33m.\u001b[0m\u001b[0mstep\u001b[0m\u001b[1;33m(\u001b[0m\u001b[1;33m)\u001b[0m\u001b[1;33m\u001b[0m\u001b[1;33m\u001b[0m\u001b[0m\n\u001b[0m",
      "\u001b[1;32mf:\\PSU\\Miniconda\\envs\\kongsr-rdkit\\lib\\site-packages\\torch\\optim\\optimizer.py\u001b[0m in \u001b[0;36mwrapper\u001b[1;34m(*args, **kwargs)\u001b[0m\n\u001b[0;32m     86\u001b[0m                 \u001b[0mprofile_name\u001b[0m \u001b[1;33m=\u001b[0m \u001b[1;34m\"Optimizer.step#{}.step\"\u001b[0m\u001b[1;33m.\u001b[0m\u001b[0mformat\u001b[0m\u001b[1;33m(\u001b[0m\u001b[0mobj\u001b[0m\u001b[1;33m.\u001b[0m\u001b[0m__class__\u001b[0m\u001b[1;33m.\u001b[0m\u001b[0m__name__\u001b[0m\u001b[1;33m)\u001b[0m\u001b[1;33m\u001b[0m\u001b[1;33m\u001b[0m\u001b[0m\n\u001b[0;32m     87\u001b[0m                 \u001b[1;32mwith\u001b[0m \u001b[0mtorch\u001b[0m\u001b[1;33m.\u001b[0m\u001b[0mautograd\u001b[0m\u001b[1;33m.\u001b[0m\u001b[0mprofiler\u001b[0m\u001b[1;33m.\u001b[0m\u001b[0mrecord_function\u001b[0m\u001b[1;33m(\u001b[0m\u001b[0mprofile_name\u001b[0m\u001b[1;33m)\u001b[0m\u001b[1;33m:\u001b[0m\u001b[1;33m\u001b[0m\u001b[1;33m\u001b[0m\u001b[0m\n\u001b[1;32m---> 88\u001b[1;33m                     \u001b[1;32mreturn\u001b[0m \u001b[0mfunc\u001b[0m\u001b[1;33m(\u001b[0m\u001b[1;33m*\u001b[0m\u001b[0margs\u001b[0m\u001b[1;33m,\u001b[0m \u001b[1;33m**\u001b[0m\u001b[0mkwargs\u001b[0m\u001b[1;33m)\u001b[0m\u001b[1;33m\u001b[0m\u001b[1;33m\u001b[0m\u001b[0m\n\u001b[0m\u001b[0;32m     89\u001b[0m             \u001b[1;32mreturn\u001b[0m \u001b[0mwrapper\u001b[0m\u001b[1;33m\u001b[0m\u001b[1;33m\u001b[0m\u001b[0m\n\u001b[0;32m     90\u001b[0m \u001b[1;33m\u001b[0m\u001b[0m\n",
      "\u001b[1;32mf:\\PSU\\Miniconda\\envs\\kongsr-rdkit\\lib\\site-packages\\torch\\autograd\\grad_mode.py\u001b[0m in \u001b[0;36mdecorate_context\u001b[1;34m(*args, **kwargs)\u001b[0m\n\u001b[0;32m     26\u001b[0m         \u001b[1;32mdef\u001b[0m \u001b[0mdecorate_context\u001b[0m\u001b[1;33m(\u001b[0m\u001b[1;33m*\u001b[0m\u001b[0margs\u001b[0m\u001b[1;33m,\u001b[0m \u001b[1;33m**\u001b[0m\u001b[0mkwargs\u001b[0m\u001b[1;33m)\u001b[0m\u001b[1;33m:\u001b[0m\u001b[1;33m\u001b[0m\u001b[1;33m\u001b[0m\u001b[0m\n\u001b[0;32m     27\u001b[0m             \u001b[1;32mwith\u001b[0m \u001b[0mself\u001b[0m\u001b[1;33m.\u001b[0m\u001b[0m__class__\u001b[0m\u001b[1;33m(\u001b[0m\u001b[1;33m)\u001b[0m\u001b[1;33m:\u001b[0m\u001b[1;33m\u001b[0m\u001b[1;33m\u001b[0m\u001b[0m\n\u001b[1;32m---> 28\u001b[1;33m                 \u001b[1;32mreturn\u001b[0m \u001b[0mfunc\u001b[0m\u001b[1;33m(\u001b[0m\u001b[1;33m*\u001b[0m\u001b[0margs\u001b[0m\u001b[1;33m,\u001b[0m \u001b[1;33m**\u001b[0m\u001b[0mkwargs\u001b[0m\u001b[1;33m)\u001b[0m\u001b[1;33m\u001b[0m\u001b[1;33m\u001b[0m\u001b[0m\n\u001b[0m\u001b[0;32m     29\u001b[0m         \u001b[1;32mreturn\u001b[0m \u001b[0mcast\u001b[0m\u001b[1;33m(\u001b[0m\u001b[0mF\u001b[0m\u001b[1;33m,\u001b[0m \u001b[0mdecorate_context\u001b[0m\u001b[1;33m)\u001b[0m\u001b[1;33m\u001b[0m\u001b[1;33m\u001b[0m\u001b[0m\n\u001b[0;32m     30\u001b[0m \u001b[1;33m\u001b[0m\u001b[0m\n",
      "\u001b[1;32mf:\\PSU\\Miniconda\\envs\\kongsr-rdkit\\lib\\site-packages\\torch\\optim\\adam.py\u001b[0m in \u001b[0;36mstep\u001b[1;34m(self, closure)\u001b[0m\n\u001b[0;32m    131\u001b[0m                     \u001b[0mstate_steps\u001b[0m\u001b[1;33m.\u001b[0m\u001b[0mappend\u001b[0m\u001b[1;33m(\u001b[0m\u001b[0mstate\u001b[0m\u001b[1;33m[\u001b[0m\u001b[1;34m'step'\u001b[0m\u001b[1;33m]\u001b[0m\u001b[1;33m)\u001b[0m\u001b[1;33m\u001b[0m\u001b[1;33m\u001b[0m\u001b[0m\n\u001b[0;32m    132\u001b[0m \u001b[1;33m\u001b[0m\u001b[0m\n\u001b[1;32m--> 133\u001b[1;33m             F.adam(params_with_grad,\n\u001b[0m\u001b[0;32m    134\u001b[0m                    \u001b[0mgrads\u001b[0m\u001b[1;33m,\u001b[0m\u001b[1;33m\u001b[0m\u001b[1;33m\u001b[0m\u001b[0m\n\u001b[0;32m    135\u001b[0m                    \u001b[0mexp_avgs\u001b[0m\u001b[1;33m,\u001b[0m\u001b[1;33m\u001b[0m\u001b[1;33m\u001b[0m\u001b[0m\n",
      "\u001b[1;32mf:\\PSU\\Miniconda\\envs\\kongsr-rdkit\\lib\\site-packages\\torch\\optim\\_functional.py\u001b[0m in \u001b[0;36madam\u001b[1;34m(params, grads, exp_avgs, exp_avg_sqs, max_exp_avg_sqs, state_steps, amsgrad, beta1, beta2, lr, weight_decay, eps)\u001b[0m\n\u001b[0;32m     92\u001b[0m             \u001b[0mdenom\u001b[0m \u001b[1;33m=\u001b[0m \u001b[1;33m(\u001b[0m\u001b[0mmax_exp_avg_sqs\u001b[0m\u001b[1;33m[\u001b[0m\u001b[0mi\u001b[0m\u001b[1;33m]\u001b[0m\u001b[1;33m.\u001b[0m\u001b[0msqrt\u001b[0m\u001b[1;33m(\u001b[0m\u001b[1;33m)\u001b[0m \u001b[1;33m/\u001b[0m \u001b[0mmath\u001b[0m\u001b[1;33m.\u001b[0m\u001b[0msqrt\u001b[0m\u001b[1;33m(\u001b[0m\u001b[0mbias_correction2\u001b[0m\u001b[1;33m)\u001b[0m\u001b[1;33m)\u001b[0m\u001b[1;33m.\u001b[0m\u001b[0madd_\u001b[0m\u001b[1;33m(\u001b[0m\u001b[0meps\u001b[0m\u001b[1;33m)\u001b[0m\u001b[1;33m\u001b[0m\u001b[1;33m\u001b[0m\u001b[0m\n\u001b[0;32m     93\u001b[0m         \u001b[1;32melse\u001b[0m\u001b[1;33m:\u001b[0m\u001b[1;33m\u001b[0m\u001b[1;33m\u001b[0m\u001b[0m\n\u001b[1;32m---> 94\u001b[1;33m             \u001b[0mdenom\u001b[0m \u001b[1;33m=\u001b[0m \u001b[1;33m(\u001b[0m\u001b[0mexp_avg_sq\u001b[0m\u001b[1;33m.\u001b[0m\u001b[0msqrt\u001b[0m\u001b[1;33m(\u001b[0m\u001b[1;33m)\u001b[0m \u001b[1;33m/\u001b[0m \u001b[0mmath\u001b[0m\u001b[1;33m.\u001b[0m\u001b[0msqrt\u001b[0m\u001b[1;33m(\u001b[0m\u001b[0mbias_correction2\u001b[0m\u001b[1;33m)\u001b[0m\u001b[1;33m)\u001b[0m\u001b[1;33m.\u001b[0m\u001b[0madd_\u001b[0m\u001b[1;33m(\u001b[0m\u001b[0meps\u001b[0m\u001b[1;33m)\u001b[0m\u001b[1;33m\u001b[0m\u001b[1;33m\u001b[0m\u001b[0m\n\u001b[0m\u001b[0;32m     95\u001b[0m \u001b[1;33m\u001b[0m\u001b[0m\n\u001b[0;32m     96\u001b[0m         \u001b[0mstep_size\u001b[0m \u001b[1;33m=\u001b[0m \u001b[0mlr\u001b[0m \u001b[1;33m/\u001b[0m \u001b[0mbias_correction1\u001b[0m\u001b[1;33m\u001b[0m\u001b[1;33m\u001b[0m\u001b[0m\n",
      "\u001b[1;31mKeyboardInterrupt\u001b[0m: "
     ]
    }
   ],
   "source": [
    "# train loop\n",
    "print('Start traning...')\n",
    "lowest_loss = np.inf\n",
    "for epoch in tqdm(range(start_epoch, max_epoch),  desc='total progress'):\n",
    "    model.train()\n",
    "    losses = []\n",
    "    for batch, (recs, atoms, bonds, bd, medusa) in enumerate(train_loader):\n",
    "        curr_log = f\"epoch {epoch+1}\\t\"\n",
    "\n",
    "        # Train the model.\n",
    "        optimizer.zero_grad()\n",
    "        atoms_logits, bonds_logits = model(recs)\n",
    "        loss = torch.nn.MSELoss(reduction='sum')(atoms_logits, atoms) + \\\n",
    "               torch.nn.MSELoss(reduction='sum')(bonds_logits, bonds)\n",
    "        loss = loss / atoms.size(0)\n",
    "        \n",
    "        loss.backward()\n",
    "        losses.append(loss.item())\n",
    "        print(f\"{epoch+1}:{batch}\\t{loss.item():.4f}\", end=\"\\r\")\n",
    "        optimizer.step()"
   ]
  },
  {
   "cell_type": "code",
   "execution_count": null,
   "metadata": {},
   "outputs": [],
   "source": []
  }
 ],
 "metadata": {
  "interpreter": {
   "hash": "da87dc8a64322703f812b2edaac7e6f7893de14d1a65573f1082facc5550f86f"
  },
  "kernelspec": {
   "display_name": "Python 3.8.12 ('kongsr-rdkit')",
   "language": "python",
   "name": "python3"
  },
  "language_info": {
   "codemirror_mode": {
    "name": "ipython",
    "version": 3
   },
   "file_extension": ".py",
   "mimetype": "text/x-python",
   "name": "python",
   "nbconvert_exporter": "python",
   "pygments_lexer": "ipython3",
   "version": "3.8.12"
  },
  "orig_nbformat": 4
 },
 "nbformat": 4,
 "nbformat_minor": 2
}
